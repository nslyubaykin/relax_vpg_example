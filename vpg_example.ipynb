{
 "cells": [
  {
   "cell_type": "markdown",
   "metadata": {},
   "source": [
    "# VPG (Vanilla Policy Gradient)\n",
    "\n",
    "\n",
    "For ReLAx & Mujoco installation see: https://github.com/nslyubaykin/relax/blob/master/README.md\n",
    "\n",
    "Useful readings regarding VPG:\n",
    "\n",
    "    VPG description: https://spinningup.openai.com/en/latest/algorithms/vpg.html\n",
    "\n",
    "!Note: For examining trained actor you may just load trained policies from \\trained_models directory. To do that instead of running 'Run Training and Validation loop' cell, just run 'Load Models' cell\n",
    "\n",
    "!Note: Trained policies, logs and videos are in the main repository of that notebook: https://github.com/nslyubaykin/relax_vpg_example"
   ]
  },
  {
   "cell_type": "code",
   "execution_count": 4,
   "metadata": {},
   "outputs": [],
   "source": [
    "import gym\n",
    "import torch\n",
    "import numpy as np\n",
    "import matplotlib.pyplot as plt\n",
    "\n",
    "from tqdm import tqdm\n",
    "from inspect import getsource\n",
    "from torch.utils.tensorboard import SummaryWriter\n",
    "\n",
    "from relax.rl.actors import VPG\n",
    "from relax.rl.critics import Baseline\n",
    "\n",
    "from relax.zoo.policies import CategoricalMLP, NormalMLP\n",
    "from relax.zoo.critics import VMLP\n",
    "\n",
    "from relax.data.sampling import Sampler\n",
    "\n",
    "from relax.gym.utils import visualize_actor"
   ]
  },
  {
   "cell_type": "markdown",
   "metadata": {},
   "source": [
    "# Constructing Actor's stochastic policy\n",
    "\n",
    "VPG is an RL algorithm that utilizes stochastic policy. On practice, that means that policy is a torch.nn.Module that takes a batch of observations with a shape (BATCH_SIZE, \\*obs.dim) and outputs:\n",
    "\n",
    "1) For discrete control case - batch of logits with a shape of (BATCH_SIZE, ACS_DIM), which then is passed to SoftMax function over the actions dimension (-1). Resulting probs parametrize torch.distributions.Categorical distribution\n",
    "\n",
    "2) For continuous control case - batch of actions' means with a shape of (BATCH_SIZE, ACS_DIM). After that these means together with state independent actions log(stds) (implemented as trainable torch.nn.Parameter) parameterize torch.distributions.MultivariateNormal distribution\n",
    "\n",
    "To sum up, VPG policy is a network that takes a batch of observations with a shape (BATCH_SIZE, \\*obs.dim) and outputs a parameterized torch.distributions.Distribution object\n",
    "\n",
    "Therefore any custom user defined networks meeting this requirements should work well with VPG actor\n",
    "\n",
    "So let's examine the default implementation of stochastic policy offered by ReLAx:"
   ]
  },
  {
   "cell_type": "code",
   "execution_count": 5,
   "metadata": {},
   "outputs": [
    {
     "name": "stdout",
     "output_type": "stream",
     "text": [
      "class CategoricalMLP(nn.Module):\n",
      "    \n",
      "    def __init__(self, obs_dim, acs_dim, nlayers,\n",
      "                 nunits, activation=nn.Tanh(),\n",
      "                 out_activation=nn.Identity()):\n",
      "        \n",
      "        super(CategoricalMLP, self).__init__()\n",
      "        \n",
      "        layers = []\n",
      "        in_size = obs_dim\n",
      "        for _ in range(nlayers):\n",
      "            layers.append(nn.Linear(in_size, nunits))\n",
      "            layers.append(activation)\n",
      "            in_size = nunits\n",
      "        layers.append(nn.Linear(in_size, acs_dim))\n",
      "        layers.append(out_activation)\n",
      "        \n",
      "        self.layers = nn.Sequential(*layers)\n",
      "        \n",
      "    def forward(self, x):\n",
      "        \n",
      "        logits = self.layers(x)\n",
      "        y = Categorical(probs=F.softmax(logits, dim=-1))\n",
      "        \n",
      "        return y\n",
      "\n"
     ]
    }
   ],
   "source": [
    "# Discrete Case\n",
    "print(getsource(CategoricalMLP))"
   ]
  },
  {
   "cell_type": "code",
   "execution_count": 6,
   "metadata": {},
   "outputs": [
    {
     "name": "stdout",
     "output_type": "stream",
     "text": [
      "class NormalMLP(nn.Module):\n",
      "    \n",
      "    def __init__(self, obs_dim, acs_dim, nlayers,\n",
      "                 nunits, activation=nn.Tanh(),\n",
      "                 out_activation=nn.Identity(),\n",
      "                 acs_scale=1, acs_bias=0,\n",
      "                 init_log_std=0.0):\n",
      "        \n",
      "        super(NormalMLP, self).__init__()\n",
      "        \n",
      "        layers = []\n",
      "        in_size = obs_dim\n",
      "        for _ in range(nlayers):\n",
      "            layers.append(nn.Linear(in_size, nunits))\n",
      "            layers.append(activation)\n",
      "            in_size = nunits\n",
      "        \n",
      "        self.layers = nn.Sequential(*layers)\n",
      "        \n",
      "        self.mean_layer = nn.Sequential(\n",
      "            nn.Linear(nunits, acs_dim),\n",
      "            out_activation\n",
      "        )\n",
      "        \n",
      "        self.log_stds = nn.Parameter(\n",
      "            torch.ones(acs_dim) * init_log_std\n",
      "        )\n",
      "        \n",
      "        self.acs_scale = acs_scale\n",
      "        self.acs_bias = acs_bias\n",
      "\n",
      "    def forward(self, x):\n",
      "        \n",
      "        x_seq = self.layers(x)\n",
      "        means = self.mean_layer(x_seq)\n",
      "        means = means * self.acs_scale + self.acs_bias\n",
      "        cov = torch.diag_embed(torch.exp(self.log_stds))\n",
      "            \n",
      "        y = MultivariateNormal(loc=means,\n",
      "                               covariance_matrix=cov)\n",
      "        return y\n",
      "\n"
     ]
    }
   ],
   "source": [
    "# Continuous Case\n",
    "print(getsource(NormalMLP))"
   ]
  },
  {
   "cell_type": "markdown",
   "metadata": {},
   "source": [
    "# Constructing Value Function Critic\n",
    "\n",
    "!Note: In this tutorial we use NN baselines for Advantage estimation to reduce variance of RL objective and improve learning. However, if VPG actor is not provided with a critic (see minimal [example](https://github.com/nslyubaykin/relax#on-policy)) it will use reward-to-go Monte-Carlo Q-function estimation as a substitute to advantage.\n",
    "\n",
    "Actor's policy is trained in a pair with NN Baseline critic network which approximates value function. Critic network takes a batch of observations with a shape (BATCH_SIZE, \\*obs.dim) and outputs a batch of Value function estimations with a shape of (BATCH_SIZE, 1)\n",
    "\n",
    "Therefore any custom user defined networks meeting this requirements should work well with Baseline critic\n",
    "\n",
    "So let's examine the default implementation of V-Network Critic offered by ReLAx:"
   ]
  },
  {
   "cell_type": "code",
   "execution_count": 7,
   "metadata": {},
   "outputs": [
    {
     "name": "stdout",
     "output_type": "stream",
     "text": [
      "class VMLP(nn.Module):\n",
      "    \n",
      "    def __init__(self, obs_dim, nlayers,\n",
      "                 nunits, activation=nn.Tanh(),\n",
      "                 out_activation=nn.Identity()):\n",
      "        \n",
      "        super(VMLP, self).__init__()\n",
      "        \n",
      "        layers = []\n",
      "        in_size = obs_dim\n",
      "        for _ in range(nlayers):\n",
      "            layers.append(nn.Linear(in_size, nunits))\n",
      "            layers.append(activation)\n",
      "            in_size = nunits\n",
      "        layers.append(nn.Linear(in_size, 1))\n",
      "        layers.append(out_activation)\n",
      "        \n",
      "        self.layers = nn.Sequential(*layers)\n",
      "        \n",
      "    def forward(self, x):\n",
      "        return self.layers(x)\n",
      "\n"
     ]
    }
   ],
   "source": [
    "print(getsource(VMLP))"
   ]
  },
  {
   "cell_type": "markdown",
   "metadata": {},
   "source": [
    "# Create training and eval environments"
   ]
  },
  {
   "cell_type": "code",
   "execution_count": 37,
   "metadata": {},
   "outputs": [
    {
     "data": {
      "text/plain": [
       "[14]"
      ]
     },
     "execution_count": 37,
     "metadata": {},
     "output_type": "execute_result"
    }
   ],
   "source": [
    "env_name = 'LunarLander-v2'\n",
    "env = gym.make(env_name)\n",
    "eval_env = gym.make(env_name)\n",
    "eval_env.seed(np.random.randint(100))"
   ]
  },
  {
   "cell_type": "code",
   "execution_count": 38,
   "metadata": {},
   "outputs": [
    {
     "data": {
      "text/plain": [
       "Discrete(4)"
      ]
     },
     "execution_count": 38,
     "metadata": {},
     "output_type": "execute_result"
    }
   ],
   "source": [
    "env.action_space"
   ]
  },
  {
   "cell_type": "code",
   "execution_count": 39,
   "metadata": {},
   "outputs": [
    {
     "data": {
      "text/plain": [
       "Box(8,)"
      ]
     },
     "execution_count": 39,
     "metadata": {},
     "output_type": "execute_result"
    }
   ],
   "source": [
    "env.observation_space"
   ]
  },
  {
   "cell_type": "code",
   "execution_count": 40,
   "metadata": {},
   "outputs": [],
   "source": [
    "acs_dim = 4\n",
    "obs_dim = 8"
   ]
  },
  {
   "cell_type": "markdown",
   "metadata": {},
   "source": [
    "# Define VPG actor:"
   ]
  },
  {
   "cell_type": "code",
   "execution_count": 41,
   "metadata": {},
   "outputs": [],
   "source": [
    "actor = VPG(\n",
    "    policy_net=CategoricalMLP(obs_dim, acs_dim, \n",
    "                              nunits=64, nlayers=2),\n",
    "    device=torch.device('cuda'),\n",
    "    learning_rate=0.005,\n",
    "    gamma=0.99\n",
    ")"
   ]
  },
  {
   "cell_type": "markdown",
   "metadata": {},
   "source": [
    "# Define Baseline critic:"
   ]
  },
  {
   "cell_type": "code",
   "execution_count": 42,
   "metadata": {},
   "outputs": [],
   "source": [
    "critic = Baseline(\n",
    "    critic_net=VMLP(obs_dim, nlayers=2, nunits=64),\n",
    "    device=torch.device('cuda'),\n",
    "    learning_rate=0.001,\n",
    "    batch_size=8000,\n",
    "    gamma=0.99,\n",
    "    n_target_updates=1, \n",
    "    n_steps_per_update=5,\n",
    ")"
   ]
  },
  {
   "cell_type": "markdown",
   "metadata": {},
   "source": [
    "# Provide actor with critic:"
   ]
  },
  {
   "cell_type": "code",
   "execution_count": 43,
   "metadata": {},
   "outputs": [],
   "source": [
    "actor.set_critic(critic)"
   ]
  },
  {
   "cell_type": "markdown",
   "metadata": {},
   "source": [
    "# Wrap envs into Sampler:"
   ]
  },
  {
   "cell_type": "code",
   "execution_count": 44,
   "metadata": {},
   "outputs": [],
   "source": [
    "sampler = Sampler(env=env)\n",
    "eval_sampler = Sampler(env=eval_env)"
   ]
  },
  {
   "cell_type": "markdown",
   "metadata": {},
   "source": [
    "# Visualize untrained actor"
   ]
  },
  {
   "cell_type": "code",
   "execution_count": 46,
   "metadata": {},
   "outputs": [
    {
     "name": "stdout",
     "output_type": "stream",
     "text": [
      "Simulation done, total reward: -230.43363181421455\n",
      "Loading video...\n"
     ]
    },
    {
     "data": {
      "text/html": [
       "<video alt=\"test\" autoplay \n",
       "                    loop controls style=\"height: 400px;\">\n",
       "                    <source src=\"data:video/mp4;base64,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\" type=\"video/mp4\" />\n",
       "                 </video>"
      ],
      "text/plain": [
       "<IPython.core.display.HTML object>"
      ]
     },
     "metadata": {},
     "output_type": "display_data"
    }
   ],
   "source": [
    "visualize_actor(env=eval_env, actor=actor, nsteps=200, train_sampling=False)"
   ]
  },
  {
   "cell_type": "markdown",
   "metadata": {},
   "source": [
    "# Run Training and Validation loop:"
   ]
  },
  {
   "cell_type": "code",
   "execution_count": 32,
   "metadata": {},
   "outputs": [
    {
     "name": "stderr",
     "output_type": "stream",
     "text": [
      "100%|██████████| 100/100 [1:20:33<00:00, 48.33s/it]\n"
     ]
    }
   ],
   "source": [
    "n_steps = 100\n",
    "logdir = '/home/nlyubaykin/Desktop/RelaxExamples/VPG/tensorboard_logs'\n",
    "run_name = 'vpg_lander'\n",
    "logger = SummaryWriter(log_dir=f'{logdir}/{run_name}')\n",
    "all_logs = []\n",
    "\n",
    "for step in tqdm(range(n_steps)): # \n",
    "    \n",
    "    # sample training batch\n",
    "    train_batch = sampler.sample(actor=actor,\n",
    "                                 n_transitions=40000,\n",
    "                                 max_path_length=None, \n",
    "                                 reset_when_not_done=False,\n",
    "                                 train_sampling=True)\n",
    "    \n",
    "    # update critic\n",
    "    critic_logs = critic.update(train_batch)\n",
    "        \n",
    "    # update actor\n",
    "    actor_logs = actor.update(train_batch)\n",
    "     \n",
    "    # evaluating the policy\n",
    "    eval_batch = eval_sampler.sample_n_episodes(actor=actor,\n",
    "                                                n_episodes=5,\n",
    "                                                max_path_length=None, \n",
    "                                                train_sampling=False)\n",
    "    # Logging\n",
    "    train_logs = train_batch.create_logs(prefix='train')\n",
    "    eval_logs = eval_batch.create_logs(prefix='eval')\n",
    "    \n",
    "    logs = {**critic_logs,\n",
    "            **actor_logs,\n",
    "            **train_logs,\n",
    "            **eval_logs}\n",
    "    all_logs.append(logs)\n",
    "\n",
    "    for key, value in logs.items():\n",
    "        logger.add_scalar(key, value, step)\n",
    "    \n",
    "logger.flush()"
   ]
  },
  {
   "cell_type": "code",
   "execution_count": 23,
   "metadata": {},
   "outputs": [
    {
     "name": "stdout",
     "output_type": "stream",
     "text": [
      "The tensorboard extension is already loaded. To reload it, use:\n",
      "  %reload_ext tensorboard\n"
     ]
    },
    {
     "data": {
      "text/plain": [
       "Reusing TensorBoard on port 6006 (pid 15411), started 0:01:45 ago. (Use '!kill 15411' to kill it.)"
      ]
     },
     "metadata": {},
     "output_type": "display_data"
    },
    {
     "data": {
      "text/html": [
       "\n",
       "      <iframe id=\"tensorboard-frame-7ad19d950c576e0b\" width=\"100%\" height=\"800\" frameborder=\"0\">\n",
       "      </iframe>\n",
       "      <script>\n",
       "        (function() {\n",
       "          const frame = document.getElementById(\"tensorboard-frame-7ad19d950c576e0b\");\n",
       "          const url = new URL(\"/\", window.location);\n",
       "          const port = 6006;\n",
       "          if (port) {\n",
       "            url.port = port;\n",
       "          }\n",
       "          frame.src = url;\n",
       "        })();\n",
       "      </script>\n",
       "    "
      ],
      "text/plain": [
       "<IPython.core.display.HTML object>"
      ]
     },
     "metadata": {},
     "output_type": "display_data"
    }
   ],
   "source": [
    "%load_ext tensorboard\n",
    "%tensorboard --logdir /home/nlyubaykin/Desktop/RelaxExamples/VPG/tensorboard_logs"
   ]
  },
  {
   "cell_type": "markdown",
   "metadata": {},
   "source": [
    "# Plot learning curve"
   ]
  },
  {
   "cell_type": "code",
   "execution_count": 61,
   "metadata": {},
   "outputs": [
    {
     "data": {
      "image/png": "[encoded data removed]",
      "text/plain": [
       "<Figure size 432x288 with 1 Axes>"
      ]
     },
     "metadata": {
      "needs_background": "light"
     },
     "output_type": "display_data"
    }
   ],
   "source": [
    "eval_score = [l['avg_return/eval'] for l in all_logs]\n",
    "plt.plot(eval_score)\n",
    "plt.title(f'Learning curve for {env_name}')\n",
    "plt.xlabel('Training step')\n",
    "plt.ylabel('Avg. return')\n",
    "plt.show()"
   ]
  },
  {
   "cell_type": "markdown",
   "metadata": {},
   "source": [
    "# Visualize trained actor"
   ]
  },
  {
   "cell_type": "code",
   "execution_count": 49,
   "metadata": {},
   "outputs": [
    {
     "name": "stdout",
     "output_type": "stream",
     "text": [
      "Simulation done, total reward: 136.09732368830637\n",
      "Loading video...\n"
     ]
    },
    {
     "data": {
      "text/html": [
       "<video alt=\"test\" autoplay \n",
       "                    loop controls style=\"height: 400px;\">\n",
       "                    <source src=\"data:video/mp4;base64,AAAAIGZ0eXBpc29tAAACAGlzb21pc28yYXZjMW1wNDEAAAAIZnJlZQAAh3ltZGF0AAACrwYF//+r3EXpvebZSLeWLNgg2SPu73gyNjQgLSBjb3JlIDE1NSByMjkxNyAwYTg0ZDk4IC0gSC4yNjQvTVBFRy00IEFWQyBjb2RlYyAtIENvcHlsZWZ0IDIwMDMtMjAxOCAtIGh0dHA6Ly93d3cudmlkZW9sYW4ub3JnL3gyNjQuaHRtbCAtIG9wdGlvbnM6IGNhYmFjPTEgcmVmPTMgZGVibG9jaz0xOjA6MCBhbmFseXNlPTB4MzoweDExMyBtZT1oZXggc3VibWU9NyBwc3k9MSBwc3lfcmQ9MS4wMDowLjAwIG1peGVkX3JlZj0xIG1lX3JhbmdlPTE2IGNocm9tYV9tZT0xIHRyZWxsaXM9MSA4eDhkY3Q9MSBjcW09MCBkZWFkem9uZT0yMSwxMSBmYXN0X3Bza2lwPTEgY2hyb21hX3FwX29mZnNldD0tMiB0aHJlYWRzPTEyIGxvb2thaGVhZF90aHJlYWRzPTIgc2xpY2VkX3RocmVhZHM9MCBucj0wIGRlY2ltYXRlPTEgaW50ZXJsYWNlZD0wIGJsdXJheV9jb21wYXQ9MCBjb25zdHJhaW5lZF9pbnRyYT0wIGJmcmFtZXM9MyBiX3B5cmFtaWQ9MiBiX2FkYXB0PTEgYl9iaWFzPTAgZGlyZWN0PTEgd2VpZ2h0Yj0xIG9wZW5fZ29wPTAgd2VpZ2h0cD0yIGtleWludD0yNTAga2V5aW50X21pbj0yNSBzY2VuZWN1dD00MCBpbnRyYV9yZWZyZXNoPTAgcmNfbG9va2FoZWFkPTQwIHJjPWNyZiBtYnRyZWU9MSBjcmY9MjMuMCBxY29tcD0wLjYwIHFwbWluPTAgcXBtYXg9NjkgcXBzdGVwPTQgaXBfcmF0aW89MS40MCBhcT0xOjEuMDAAgAAAB1BliIQAM//+9uy+BTYUyFCXESzF2kpwPiqkgIB3NNq/x3Q8bVgCPvALQxfDGf04B2IYyF07an//+t8/K5G+NeQ+o0BaqvBUctkXtfYlS6i10O1uU8LHGo9+ySrAfi9J9gzFNf1YJf/X/Q7VK73ynZF2mzHEUAiD85A8eEVnUgU+0nuMgIVFNTi/vYdmty72zAlNf/E2RHD0UT0ShrhwtPvKX4LXmPDrx3QXxsQslQd3ySLcMtO6SCYt38GEZ9o8ZY2C9RWc+2GvDrnQdVQ66VKyVHVes0W2SqCc2nUsY3sX5Jj/VOV3Ioqb46GyuLSP/SAAAAMAAJnms38uv2e4BHLnnHinlAgABMQu0FTB2hhRjhzCOD2G8OUbpDi6A3gNivqOK2AeIpnecCuvDpbrFMqDWj6ujjKuCcvrezPHJMt+qcHdEaZbfOIfaAEzKg8hwHrjM9tDKi37EKzb87B/lkDdf3vD5K2iJCPT8sjXFEJMtJV9ZMWGDf8pcPvi7IjVlbHCoArjkvl5ji1vPAvlC6pYXMvtfeeh67kiPFh+nqUnwdMZlEsQMDk4H2TN9Sy8kCVNMZHAXXUqYgvVWcTpoqISlg5bhionxISUlrD3sq3p22b5KLVrwRhQRNtQLXeYmI3uZtc+3Co610IQv4yf9IRSHsK4dwC7pcSh4u8h50PL0FEXemOLoEoRjaS1W4UXH1UQ5xx1sa9SCJOoxR7ekqop+P5XnvmrvrHyqQFtUm4A907iefFiTFnHRi531ZzD80BOyPktq57RPoIyTVv0D/SCJfPt5A8f+8i2actk6kq4gwXuIVcxOy9oWT304T6xYaEs9XLdoXYQ7tBqrfr8zobFuRGvj0R7FT+h8PabKxkAyHxNmuu81JcrNXAA5dZ4qJR8qvgQW4CbxqUasbleI2qQu+MN0nbwq1ctAsqYourc8U5Rog4gzOSmPHy67np+LV7JSB1d2zNN2XT+aCVDEYtvYghTZL7Aj2y2VYdBAwVHtxO6imjdW0X/0Qog9Bf/jQT3zCkpUP8DR81J8Isreoi7n4YGG6woBTnqskFVDM3tIh4MRh90z/KNno1Iqu0DUFPaswnV+GnMB5DxnLlFUWWtcLuFrEDRgt6B6CZ4a6P1ZxB9uRCISk35ruiYFtvj7Mde0QB2q2AGmBkyy7C1ACCmNrFoqb2XHA7xOrTY4QaAu/xDnoz0A4RvdWfFAxXlLfqoqWffonEdPuT+B9wbgYs05luqeqluV67RZrLvjnxHFiB2O2Ibv6tF15fZ18BkuWC+8pBYgXbx9V5K5cJoO7JF63mdP2uD3GFR6fArJm0DTj9bJBgPIs792k/F9PEp2UFoie1GVkIXcdD3ituV7qjgcM1TBrR05PhjYk0VogJzrcjc0VydOaGvb+w/vlmZM7eumCK7gY/7Wu5zyS8NCvHAhyHOLYY8ovPoL+3ebcCs/j/HQDe+o9XozJiHd0OYQNv7tDIQ2uOwSvIf8xF2K5gLLfHD9ZZMuHiHqbG25/bz7PySBfyfMgYQWJoiRkPxhNDaxssB88Y+5tQLMMaVNUVmPFvpkKckl3EwqdeU7E7wxXrLfQ64ndWk68kHCtszTmtq5UVR/Im3YkLeRZ0sQJB/gsS8K6MDwnGb9DLOIT9LDa/FSuw7///7WK2MGFwOv7yttnMK6cvxIyfizAO8sR2XpZjwUR9teX9K3tJs5RHZCQFtfk1qTnf8fTed5BwsWIm4iadEiNtZ1r39sFiSgr8bseBpeQvheaf+IO9JnSZF8uaZGqxutawAAAjRlYZ4kcifqFbpBfXPVqzGtKQuvqJ0Rhpqo8+iUMSnW9OdV2Euc8yb0pImBuXOqmP50Mj1zKjRnKN8yb3ZcHZIdfQWfeT99hGLFSab1RxgLxgYQVffJ0pZlvAzIsoCtNc7UPKdzxmhIug8MCQXXubwj2KPl9bNhC13L3l5esIRGlK+n+emcDV0C+sTFRncswGS6DIu/ShXKA5X9QAEa5LOe8zG+uDuDJ6vXlBMEuau2Ycp/a8ZPS38niUzkvZ5Ant/Z7fml/b13aoVEzOZaWfDEepf2F6Ua8n4yCW2T395UuKbGdNFieOvz8d3t1+AjaymeFgt7fq5myAay2CS9pEVWgYV8ohmlwZkPla5xLMcxzpbZ6Rh6PriFlMmmaIHIa2d0f+j/RayN0oj/HSldYDx5E3U5NIu45QEPXyiRpFuM1J5ue3cT/kkiQos2AAAbnyvdfFC5zyf4hrUSDyieX5dMUXy+wJu0RTR4ULNf273eq/DKdgQI90+tkfiHfAMSIjaoltYYOyZlMpIoldeYBkBxdbd/F/ldr0ohdbgBay3buRh6DkzPaZNKiesabNDqX/ek+VrUmGU9uKQ1YmpVj5tCpooh4x81fqu4xDl4D2S9Xv2+zX98+AAAd/yWoaE4AqED99oMoaSdsc702SOe0DGM2uaI8/JeRjvqBko3z+MgW+rcqo5woF1PibzH8sznRYAAAMAGVEAAAEOQZokbEM//p4s5riKABbETXL2FGJU7/f1JgssFryMR/uRG9r4OPNtZVk4d5IRvEnZ4XRv1agEjMAAA/JmKai72tSqOutVJM1Ice36ITWeXZVyoUrFy9CXhbT1spvS12WmKwDGaNhubOkWM080Jj3xVY1U2JsGTBJsfT07E/fuNoSkK00gHrxsa47unMgAAgf/7d4ZQgAFV+2zPQGxgk8wJL2ldWg+ZYFhlsAdcD07e9yKf30NOjUMLbg8IfN72tm+l7etMSWxuH2d5TNnPscppfC/z2gGCefCUKLoidmE/ldvTwPaWeFGFup+LeyzoHVIjKIxman9dY8UEk5dU4Nz/01B9cVXcnt7OIny51UgAAAAW0GeQniEfw9I2V/wpBh4yHBUCzIAM/MdpBsj+xgh1WO7OKD3hgAGSuTVrJaCb2aunJv2C8LhDTQdgm91x/PkTe/zE3svF7zSNsquonnDSeEgILWLCva2frc9wEEAAAA5AZ5hdEf/FOsDI4bay/QYAFlO9V7e+x/HJaIUc7IFKGhC7Rguu2uu+i0D+LCCI51sL+ml8BookzuAAAAAKQGeY2pH/xFPL3sPtdEpWzTGoAAZj1soweKcdxpiXYnYdONexEharK+BAAAAqEGaaEmoQWiZTAhn//6eLSluynjACJ7qak2D5PLdZ+djjezOZ1eip17j/Ga+uaBO/D20YiutTUEGPbfekTv14TpVSMxu8XC4+uzVkYxoUrH2AAADAAubI5n2i3Qa/t921TLXNHItIsZKjWx2OyOo3pBVU4Fph7ufc32+hqdvqLJH7E/sDVVLd6skHG7citFlm5HIw+KlfmiO9fN7PoALuS/fJox9iQgcTQAAAEJBnoZFESwj/w8lZdZ5Z5OhFcG0QZ79qXEpu24ALpd/80I+3qs6wKxsMKNpkFDELpy4/gHScToa7JKW/g4R2W5WB4EAAAAoAZ6ldEf/EsytpkCalTtM8wAPKYdVvdzmBYtouGMg0DiddeILearXiQAAACcBnqdqR/8SFO00KoRPQE8UHJgBGgU/scV6ychScI0EQMVuaflgm9AAAADNQZqsSahBbJlMCGf//p4stGCVgHk4ARiV0W2uDqqGvwpZQRYQZ85kQ8B/iyLiJ0+//CCOm4QPa10XGKbxZE3vqIrJDwuVWcPlLucVDL0V0Wg4Psk3MTGuzqyOWoitVqd38e567qZToS50gWk3aXhS9HTmEScgAAADAJdvVii+qOCs163kXtjIUdBiDbPx/C2K4ujF992tSsjVuc0YY7mjPkCgde3sfJ2ErHXDO3AMTA4a/d4LZCf7ISEU0x5NGnAmpbIkSZoyVYpJrFZe1AAAAFZBnspFFSwj/w97JtjZ6EHCtIAVd9Tlb+QXMl0NY4vcxjJGpmLM6cQYDJEE70TL4OVDTqOxYgFGEU8pikAATS/st5Ds9qGq2BoijUQGHsmIHyp0wPE6YQAAAB8Bnul0R/8VBwROapKA5GYkkZdIu+gABpgxjh7oiuTAAAAANwGe62pH/xUqmw+icItAVaUpj+C4f968Fi03qJYU5jegADs6wXF0m95tdXv4E0YqgW1RvmtwAg4AAAC3QZrwSahBbJlMCGf//p4sgpQrQReJJGQd7SAFoIOs1pn4W2SzMln6gLxAHp+NF0WcFCZqRzutT6du9a+SPK7Q54v6CsFuCHucTY5o34ZYAAADA1ydbr2IDs7i51gOoiphGSW92hlngo1TY1w2evlEPWR9RX3JydDVoro6xPfdtUzZUa/+Wy+i3niL/jUZOYkah5/Jr6T/5QLab+B0S/3JAASlzW5iRl5+q3EvB9yvmW3wvLyJaxJ/AAAAYUGfDkUVLCP/DzJQ0LISMspdhtIAH5MZbkX9LsAQUrH5QPPt3ipE9UqJjs0iY8uMbq/CkaorQtN3Q1LknXnQ6M3z//CpmZ/oAQVuqydVQ1/GniAPY3gz7c6MQcNbQtN0UFkAAAAmAZ8tdEf/FSodGYmrEoOK2Lj/BFame7XwABVihJiIpH7VSHtW/QUAAAA4AZ8vakf/FKaJspc9bJU0WFZpIxfawUv05kXXG13HVPCi++W6YViWAAEyEikT5wVqtFblF/BXs44AAADaQZs0SahBbJlMCGf//p4tun+mmCCV2Bra4ANoNq++sGHGUzkTl30bjDB+AWangTT6LTIVHwtJiAhUp/B84hfyFONWzCNkcnVwYq5kfM0ME7CXrn8lyn4kPz5UAAADAHh+tKDVhmQd9b74oKArQZMK3Ctn6AcQqv5NJvAQalvACh0bNsKuOx2hXDJIcg0eWpQqpkQ84/rHtlG6zLPxdv0APHi97tqmawoWS660mIyA9mtDt2MWqfL9rAo8qVSnahrMiRrLD4IVsMl8c0AhmtbhuO/LV8EAySoFCHgAAABMQZ9SRRUsI/8PetCr6PTBxuz8yEteTPpjSZwjky2AG/VuAQAmKsgBd3zM3HxOsTnTihAAsVeOi9ZlOBi56Q6mJF+jKdF/J35g2yWHpQAAAC8Bn3F0R/8VFzJSDjYATMTxuLSmIPngj9iU/c3gVjlDIAAVVBiu+n4vQSozMLDbgAAAAEYBn3NqR/8VGvai+Dzw96EkpgBNB+mt0NXWm9L4Yl96H2buKWIpqxzvs0LmM64pDSLAGBXQyArvH8tHI4pRWaiG9CbI5hlQAAABDUGbeEmoQWyZTAhn//6eLa3ZOv63JzuADLyk1AbpJLYVvHEq+sYvxdJkq6VwMNRQXxtEGUZy4Y9bPS7LMHumJZ/0zL0E6YzmjRHgynRbp560V76WdVPnQGTAt1zu1+1gXOMp9YAAAA3J9k6AcF+l/xeId4LN8NfX9DeZ4bAp7V7SWcsSI02Jd8xN+Ea8MvRF9vKKKq0EImuW4JzW/O0XnW7SEv9eQWgOT3vdtUzqaLZv8ZZdhBN9MF9125NXll+mBvmYOQHOZyiIU0kMIVras0QuP8Lf8aC1lrQEH/X9Uroev5Mjan4wzTA69Kz6fB+ptYr444LLAj3nOBaIBruYuLlR47bFzC85I98T4zTvAAAAakGflkUVLCP/D3OMFBY/OSBACU+r45puLhO709kear820JrCi3aHgZL2MefGMX6v6+CV4zipPdMeatfkiK1kIjIS1XLZGx+t4bKKXGrB6ALWc5bhr58zuozifp1WV8WFm7dT3P02EnjaargAAAA7AZ+1dEf/FzLVpk+WffNaQ0JfJ15VjYL468sOGeFDc7iJWsOgALkC08s18IsOFBUZJHleRrll+VPz3oEAAABoAZ+3akf/FzmH50AHMEP/2RPtYgXREOEk1CZ8/4uKnQxf/Ll3Q2uoieovDQDDKLH82aecXztEexbvfyl87tC0ig/l5DXC2KE2yEdvkAsplK0gADOHse/npZ4mZcm4ATto2XGIoqayJM0AAAExQZu8SahBbJlMCF///ozPivGfnDqDC4T37OYU22Jc1MLWyGjULyVtFuKse+PWFKXa3+RVChOxqkmNTLZq0ubtgllC3wngAAADABX/8hVFBn4z/pbdbRXVVYmIVIaLHopXzVrzJvlKUKig4Lohz9IWwGEKDDMa7AVisPS0BQQ1/LQuyH09JTw4Xl8EduGzTjcFBQsx5EO+7WpWyu5B0duBxbzSQXf3pcAxbW9f/E15ZyK4/sfQWQeVCE8Ll/asFwQcJxTT9rMPJxmrWcJ1/yFFjU+krdF3jX07GvukB4ADyiY+R3xS7Pu7MGO4SOYoJIb9f10iJgOtr148v2OdsAEJUYvsSLrpvhG0VRl3xnaPzsOeIfu7PVldigUqHoEFCpkSItm6QsUTPXkVIN9rCZt27pAAAAB0QZ/aRRUsI/8PaMK/OkngANthzwl8XN3n5SY/jvo2DLQSpdUR8F1JnB43p4b8Juu6iUehRZA1d3UQUlBJVKvBKpAOjR/wFexYVu80Jak4C+1uetcmTMjgQDAB+mHW7Qk/H4Z/J9VwHSlGJUoyzM6GwEau49sAAABNAZ/5dEf/F2g9gA4pBbTRCgKRlN5eCN6VWIO0MgdGM9BEKmER/wp/nz1QWSbY+yUZJLNJ6HSJosIABLO33YdAIWidTIsSMoydTRDiKTgAAABJAZ/7akf/ExmA0lLK7WUOv2z/ZpsdsPGKPanwGJVUyhQrAGjLtDD+s/s4NVslieAA2UYghiFnL+8TAUMbmCkVCT2/4TiRn2XjgQAAAPBBm+BJqEFsmUwIX//+jLqtqfb0UJ8khyoJLvXAA7IxZXY3mjYVJObJ34tGcIVqS+l1BB941gVbnA9PsCOp964P+qIDQbTZr1kB6gTqrv2GnX9eHHB0rk24OCabC6Qj3Yey7UdIg2US3RE9TCME8yfUM9SE4G8E7jhv4Ir6PTkL/clOrUhBF7oYzuTaFcDdcXQKYm5odeNc5SZld/Lep2S/cPEfYB0ybDei67tbMuot9aT0OSipKvyfjDH/4evxYG+kfNl92F/qdvWbk2GRJBhtunZgxFyl1dgAx9PxYJPu/Kt2NIgRYoqqdmA3gl2mGLEAAACnQZ4eRRUsI/8LdyxtyDyc+L6AFlQQhaVF6Rn93Hx3nuuxeHwIb3HKT6yrHXk8wnEOX/UYIQzKg4kCRtKmhnFuixd43b3Ynxo7juzMAjS4VNyIF4gkavDwMtGDS0HwczrH+phcu7GjxUj1qUw+3JiCRamSPlkNKWH8ZIwojBbEv3DYZH/1Bq4wtD/o3leYBGCqedjZJoAfcn8Tk8XOajpI1A1AmqoPN6AAAAB1AZ49dEf/D/0vmIXPLiroAWuZCRRLsN90Omp5RqhObJ4X3E/c/Sulm+Pfxd2aSPw9qgjlJMwrlmZXTU/VTme/S1zbjc0a8P4BHvg72IqOwsw6ndsdDdWu5JdPWEAaJe6rZmusNhCmABLf8tdbpd4b4GzPrg4gAAAAnAGeP2pH/w2qBfEKjJ0YAR2AwHEDCpSbkkNiFs4hPwns3CwVNJnriMXkPcN69zC+tuAEKBryDpfB1qn3pCyBIL3SpTAu/uBPKQeW/3zwj0pQl34uxdFbR9iSlocMiOZRlnxlZogmzPXtNBp+y+Gr26JQ8MsXYhQrx6Rjeez0MYpT4guPJ3UmBwZr3SrTzAaHsNPXVvAAGSFQGEVbgQAAAPpBmiRJqEFsmUwIX//+jLAKNypwA3XptUEV9hTD+uI1UTQMp11ZFo8OcFbEQRwRK7Kx1hZixo9PHiODHbvCtdWM8Z8u32YVZ8yxiVmYWh4kiXdhLXp/rd+1iQ67Y4guHP12AnTPiQq8Txpo3IHE2oF8DiXHjGPDO89Dv1WaI6odazbqM0nRPZOlBKogxcfkacBvvb9syBotOqFZ20PhW8NeHmh704JrrWvHlUHxBb5/mprk6rl9sMBuCTO6Yf7hXdI5Rr6KvreXlo7DHZ5EWiyyJSDS2TzA8Qq3ntArzBWNLmx4G9DglCB8TMf+vuiT6uZ7ZYi90ZDe+qYEAAAAzkGeQkUVLCP/AnvI4o4NgBGRsXQLEDrzRQRU0zWQBGcFItBQEzlGiJ7JRAA3q8IGQWpUrSYboLK6bQbOj4ObhPCRZb6T3Mv5WVzhzazKN7T0FrIZDFacqBBKVK7VtgwgrRPCq6dDhCeMmg79pSVchjBg6S0DOl5Z3CWiLfXkyJhR3a+p6vkLMEGFlxtMj6PPt7KKdO6P+Jms2uBhLfiMUahTJyFsbPvYo2ShCzqos0CBuBR0lRm5DtHAAfDibxWtKYsz6DQtKsFJch5yXtmBAAAAsAGeYXRH/wPqkqC3a7wA6RdfzrxeB72NdZQGqKI6/o53KGOJvHW+qgQa3s8fZmxOaALmbS1/u7CU6IRWEF/aAD/YhN0XibeVqzvMntcUoB6Er9vPV84wz+L1lKgYfKMFGBtyPxWzAKtVptH6oaKZyTWQYLcKyj9yJnv4brCzFIXeFiOgV84DaBT+nQanH+Q0HooOgK//40DKZ7ZFIt9KOVUQ1m1a2ZAaUlplcAHL/GZAAAAAigGeY2pH/wPe/ULvgCJh1W4rEoJpe5ZksTBthcMIgXVfvAjbWfIjycx+0Addy70Kjhfj7XmUSS3vSHNOBPgLZ5ujtJeq1peDkm1vaG+SdiDgQF0oZh3SbgI2liiiSDwM/A91YA/AWH39sVv+uqn5UUvYYSkL+GQSddpaowhrCx+gh6SqEbxm/swMaQAAAOxBmmVJqEFsmUwIX//+jLAKZ1u3PiJ93reIKj2ACH5+iosOj7ftP1dWb4FKHDjOwqytFyu5BMhy/+U7RLCR8HYrLd+eNQ1V0gTimY/tm1CIZr2GBOEBhxuW5UlFb4FkuFnIsK73dUJxHnFVZ/dWaqTUYdRvXiKP2O4BQyJ4TszP3mpw2k2QImZ+ljhkJit/Po9nwgEaVBwx0DHx5HJAZmhs1NEN9Rufmn9v6HHyJEwykTgUdNUhN2VTfmKdGKSEr5jjtgFNenfygDrGWvOASCOkVVtKV75thmElnUEtmsKbf/BuIuXYFG+e9i8dCQAAAO9BmolJ4QpSZTAhf/6MsALuG1TgCt+oPxckeYAY+aAmeJHe03p2XwUIhPKap2YvEvRudhaJQlLDb8VM9Kulql2RhZZLvYjKuj6dPjEp0lDmivn4jRmDisErQhCQ/QMehqr7w8Tqld7/KKHh5FER+R+5SsBD4NqvmdToWDg5+SePuaX5h1id5hdQOl8GehR3g1Fl7fMjRdfJLgErbGTbzl58kq7z9SlxJ/dcbyOAdOij4CgI1xjyRfrTutdMWxGZKxiYEywLa7Z/voTD1JiaGZnYGxxKusQo1Hq4DkMMOyOFxzDqQ6hKow1ZD6AKdUnlJQAAAK9BnqdFNEwj/wDt20z8oQGD7vP0ayz/2IASWVxv9RIqrBno9haDLoCfzwiobTz56A3SSqqYJvKS6MTXmDMxwAJNX3O0ZxRzG+Pv/miz17EIuqvItNKlCPn1hSM9OLqPLKVf7bvkJxRIun92eR/rHCK6sAHiuh+BMShBk6nnFsvBpP0KHrar1XE8+TsTeVMtkkz3Eb9EBluz/4s2ow70706EYQVZ0W0wSx82jDcm2A2ZAAAAUwGexnRH/wF9wB9yk8W+u499Ip+GzrU4AsAiC8v8L7peIbV4qfLttNImSKAFnMvJxQ0xDyF/UA5Hl5AsZFx7nBlA8Surv544VQKgTGl5hXOozu6AAAAArAGeyGpH/wF+kzUQAOkXpQt5ZhtOx8X6Lv5cajU7kTnM/rlTKgCzVptZIcP45SNyyzFekAf2o9ka9rCG63UJuXy9NpopCVEnssKWT0VYcjrRxC7lylMpVoBLw9Cx2RjIXywQdEAWwZovKQmr28+wI1YSHqEIqT1MEDIyOZLyz2loVjDTcb9V1LJMM+XGoIEKYzzGEkuXVzy93QN1XloWYo5/jlKxYQA9lBrUOhoAAAD2QZrMSahBaJlMCF///oywAu32Xk55iulBXS/gQRANpO6E6gJvFusyHS38vF8/ZYAHDRLTcUzAHdK0aUPxxxftwu3hDQqP+ZCmy20It3S17qv9FHYcXsXMycH8JHVRV54+yDuIBqV5cMUFHxw0x1MCykTFuqiHhnvYEuL5LAHiHaoG8REJJ3SqNPgBQ+GtsZgJTBnd/Z5C1qCurGRJ+1J3Pw77Ees/ki5qlqcFKVJNI8PAeuhMHVWRAA4a7O0up8cneDKf+wi5mzMpq0jTUJ8HUlhtEp9qhZeo3nLVlpGU8O1TYmmBiNUrNIUlYsF5qN5IMMYtinlxAAAAhEGe6kURLCP/AO1/SbthSSYd9T7zcRefaAA4siSrJWG18ZjKDqI3DdBpKDZWlWkQVsu3ayptRz1F+LpHFxVnaPDnb0jsA2DNCV2rHVXrrGxYYCJDNhlGF/V0kTZPSr3kCJNo4VC58dxVe8WbNTC0mDg4qRWfxi90chqY3MczESUld7C7oAAAAIUBnwtqR/8Agscrnfan4vvs75jyM0uAPsd17fAALqLtugxWd6e3vdIwrqf56EgvJZcbTCQaI434iTwK8OnptJJLYlbnqmPeiSc3MGuot2m+HjXHcuEtek8iZvxiIO5OpaabgpJ6bJErl1SE5pc5adKvsOlE2VCfJTY+dt1tNdLTiCCtuJOAAAABDkGbEEmoQWyZTAhf//6MsABjP6toHAi0DTBMsMyTm/pQVFWQa28UOTq4Egoj6ZoLtInsf2ONbOF3+/hFMhdz50WB2dt42j7I+cSIO6sTpLIHyQ/eWFqHKM+8u10EJqum6bxbPVktvIf1VrTYbHBSaY0qBfEfkPmI0DkxSjPzTsRVw1dW4goJHt32DLsM3NydlRE4CY7DRq+2g4sm6EohbqhP2x+rPTfBIAzW0NfAdHV3XZCJWlFHGN6K1lW6kmNdVbhghd7CINNSiC4Sni/LOSgPuMHXZZNl8m9h935u2D7MAQkvEiQESQxRTDBi6MF7ZjfrEcfdsoovxmDzJrLH+YIuGTzsWZjdYiOlUE+fTQAAAIBBny5FFSwj/wAfFGZIZeqZN6V2DmKKWd//bAfRjUyZNGrj6OX7bdkXROaavUBHrSW0+FB40ACdumRxypdqt+dMx+vNyvxDfoScmvOpg0Clk/UDCa6RikqpOqjmwtPoq6HVQoxIMu5p5RnHTaEgbiVjsfGB4q6B2uNIR7R1fMxdwQAAAJQBn010R/8AMl7BJi6wkbr+73TLqqesqt8zTTcwg8NzY1b0xFYMABOsNDgam9smDcBRaL0JvJgQbCl7HfB2gi/wI8/QNazORZBZg58QrxEHh+g+SPIh12MaT9lDMyC4zBDDR6KS7cdyjYMxbd0+BuemCSIavRuwNjxue6VRwLyyWL9ffDxxVuzDt5H4xwLEuUs9OuphAAAAkAGfT2pH/wAySMOInBbKU5IACWqyEluXNKrA0nsn1uf84rEatdCpNRiYKqvOPHLLLWmYAuLv6vBWjV6sHar/dZb0+1UFv08zkvJeKvk0tx/micnMsht6S9psWDop2jwBJHP4zrv9/PauB8eU76y7bQctFYVig4rOZ30jotD+9dTNYBJwlKOqLTeD14KUQ2Q6YAAAARNBm1RJqEFsmUwIV//+OEABY/a3BBv5oADU/zu+D6BgpSqdAj3l3d8ItatDPZZB6c8Vv5fRqkuD/fHudohpx4BCdSbWueN10A2uPRXaNy8Ko8reDmC2W58Vko5xuYh6P9CZKJIQ2akVZWdoaD90fqHLQo6KHxsdiUrzI2S4xWSbK4Rhoj0xj+I4zThk6XJK9UwhToif57PtTRE7XWyPiCc4CCG2jqKGPaTGEB9fVrtFsWgFIVP4zxMLepSB4/OQ0tj316/Ae9fwraS6SgqSPnt4m5zYk5cAAaJFZPigyfTtEmY5jTUbDIc4hrNiBy2sfOg3w474OK0puSIXalUMdJECYAHxmuLLyn4Z9iFpE5iOfUAJOAAAAK1Bn3JFFSwj/wAdACXL6x66I64+Mv3RACWyJny+cqOxldvb69voef5pHaSFdC/plrrdYZivwDHVojDqX6xAtVbxpb015GkGdajy0yHvb85Esrah7JbEGsDS0MxSMRa4n20x5d9vcGh7WFZDxI0+xA/e2GBnTxdEaZwO9QtngRUdo9gqNUo0MO7tRWiJVe27k/clVy0iiX8LxOQuhjCB2XMCOvcyJJbXTMPyY0ra0QAAAHQBn5F0R/8AN1goqmwlPAFWcz+BQRLYJICBZ5cOPC+1jNySGxW+d28q4UxtOhV9uAAQg3Mj9LXdqH3Z7gs4aGLFTNsFnIhChI0Tsb1sl6k/xlMvf6Ydyv/JzwlqDj4P245HS5OGq1yW8Sll/C/gOAK668U93QAAAKABn5NqR/8AN15UDvmQQmpoBpPXGoAV//tsR3pLYCQdHSYQIHdBPu/bfB5usMwOsYHsP/k7kGn37I5bAnQ4nDsp/O3WPDVOkuRIn3gh11Z0ZJFCYXyuILf7bHNQ7OSlF6XHPET3G1QCY4prGFLSIphIZgWie4twJa6kMMjT7r2Tpi3zUwUfbTESVO9VL3JsJkSLKog/edRe+jiyrzmogAUMAAAA9EGbmEmoQWyZTAhP//3xAAGHlSE3rYu2+KuXxLijhkqsJ5MKGAKma54FZoEA+aY8NdIQx3NyLKmzAqhbQYbBVrnHjS6yUZcWzf9pPnmn7b4TAJBXhkw9ra+pN0ATQme3pwhj5jE7OsXjChc9OJOsrXVV2xaSP2rJragg2PgZkO7WPf+b5ZJoPBamyHjNMEL5dHpk5vv0o68I1RehWM+1kWLt8/KsEl6gLwETffxQvjrD8qH4NeuZynVjVPF1iYz8bsHuoN9MlNGa0FWkxz+P7urOvBUsJNwmBeWmTDxNV0zpsm3rQdwU9l2NvgoAqsfW31kACLkAAAClQZ+2RRUsI/8AIsFNDCnKai8vJsAUGxCSoxvhbgU4K9Bw4jlvjPpoFkV//ODowvznjZSFqX+//pufuHsj7o5LgGWIQbPWrl1rEhF+pEJzPWTWn52lW6vnNK1Nu9RCt7iaVpayrEk133YAPNESCCKECc10Ly4/4gmLuKP+NyULftkj3Kkvm95lqBTIy/9tOtn4J2oxTBXuHriOQIAFsDGWCjNaRiEjAAAAlwGf1XRH/wA3OEvDS/WgQ5UgYeMzAEe7KQxTBDjbQFft4UmFmAqCO/ra/aKaOLSJ0smXHRWxOvAp9K+VNNTV+r2rmzMn+mZDEqaF0p4XcICJiQ3puDbLZEattMFcGbHYLwpLw0SbVT0KDr2lFehyBjERkZhi4Pn+8v4IR2EGkmCWEsEZAeEGoa+NVmZTLIIVtdadEk3AATcAAACGAZ/Xakf/ADdSfS2oTf9QedpI+OZGTN8h5x82NILM+u3Mj4YeGnRD3g2WsbjzDgQAro9LPtiHwN341ADbjMeZv+T1LeY5dMDSbEkR6UzkrNWUWyt2gXmLb4F+2403TSDkvCrNPlop9Jhh8kM3mlYGg3icv5BwUS4VhgeptsXWa7cPOGkjHhsAAADlQZvcSahBbJlMCFf//jhAADY7/0jRejPYhHmZTrTM9ZCAG3c1d1Wlk1TVwStjM0JOkCWHrGWb95mvBYWoaGTbZUWtcbFnRTvr4+yuq1xmIf2AZilWylPQvHwqWTPSLKBwVFwJcjj6tDyH/scowD/XOv5uwOIiofEGBnzqCgfDIF+ar6r4/iEEoTtgiWnpt942mA91xCnggoUoBxfGqYNsxgGeex30vFs2N9OsysHaRr+PzpMkG6eZGlFJLG9eGjZNU3CPCzudBtHgJ6JvOVYXkPp4U19fPJOrdgv8hNmSFJz91oACTgAAALdBn/pFFSwj/wAixT+ZbW9XFPx1AXKsoDJJa35+7tJezFnm1kch/0Z78uJsk8W/lFPoL4AUL/QVMeKN6i7y4cUhIgRy2F+rkzhhT4ZkXn9l5SlYORsaupHp9qfQhABOFel0t27HiNXy+bvy+FxsEKftN72nrwo7iOUGp93VFmTlWhJ/x1YGOPHf3D95WFg9hLWMbQfOKWd+qGQIiWyR/st/SmJj9chbiQx4vAckzx5ABlGPzVE2Y3sAAACvAZ4ZdEf/ADc4UiJ9u3TaQAlEPShprNIMu1AXTaD6bUFGlGNdZXpBPbdaDLa4HfiUC5BNmSHEZ1/ue14QCT24Q/2C9gZV5WeyIMkH3tU6ENIjcVAlrgfHYDegPj1VHPac6SWWNizzEj/ehkTlq6i+SW8OSYaBkkGLNX3fT8vQm/H6UILQrpEE1H170yxuqF4398UqwFOuLwPg7N4DdF2Pd3uookzs2uW3NyGJk74CXgAAAIQBnhtqR/8AN1J6QGLwRXsIa1Owf+5dOAXifVbdp+PkBDVDoBuF77IDa26cGnUHqzNPwsYJNpMVoAS1WfwBrALMJ0Hkg6tyJJ5nnaAYh0PCETlD8ezTiA6h4Awou6Ggo3h/InOjnWzFLNBxY0kYNYfABDHbrtGMZTOZR/xPPOrK4jLwBd0AAADaQZoASahBbJlMCEf//eEAAE96N+jzYJZzzRtXTrfp8z7d0UPXMdfX7Ui9vkcADUGR6XI+iB3ey9Ad3g5LNkRyd6qcPUITuWNGV8i943/VaLESHCUKYqDK5L3GqtOKLh0ZHGJxT3GcymlrmlPhZp/d4Fx+zZmPGahZQTb53qep8iiHi/LHQHo7xU01KhYFh31Sdwj6JSUkQwMLxbVi1qrGnYd8DsEfQWSlo1JMh/4RaiIDyrFhpANXW53PFlEV37BnIKGD/Q9mNOlBFVSPj2NtQYxai3YaUuMQBaUAAACqQZ4+RRUsI/8AIsU/nDrZCGW4iNXQZmGJoRxyaVxYJ+1Ya3/vJWAFqR8AT46HK9u31nnGTbiB3e8Q9upai0z0acueFgIN/hcm3u4RbWZkcGgAZpk0qJSVquXCdQKmcHeXbnks7EOYr/gqUsj1EtgJNMSLnb/5MZkBx16ST4/SPrLgzNFgQ+TSdhzW0fxK3b1aOlSDzH5MOFSkY1gf1pjF2o6Jpal9gtsuj4AAAAChAZ5ddEf/ADc4UiKMsWljZyqasHDS+m3ACTq4iORL9j0mrdCvLbV+6+5trYpBJCScB+kWAb3V8LP1yNAr4jFtQNeXlYI8RlkOfooNgJ0XHgobz3qNVaQSHLf2h6kCr6i0rxOxt0InxCDfVy2k4ihc0YvwTCqeiEeoLbg4XaQNDWSi/vS8tVfSxmrEfCa7HyCg+7MbM0z6DVuZIFxXIR4AxYAAAACGAZ5fakf/ADdSekBp4eK+uREI+8H5J3UjiUxAv+ErvRgA4wMfmTRg1B2bOkDEXH9sEwdS69MkdpQBlu5cdNIOLWYFbDLT4PaOh9zthLQdVv1Lj6B3xmbDIRYxl/H2675lXWWGkT+pJTIuFbWK9Jl1WBPmjRqrZ5MDAlD5EeQ39BTc0lKU7oEAAADPQZpDSahBbJlMCEf//eEAAMn6OAYv+4rFRhaurJ6hIOTqTmYmfHQtUaAI2X1lKX/I/DYwj3GjUceMuw+e/D2cx7OztGQLMOAfRZw87Lo+fv9Lh55kKB73f99sVZle7fFgxbuPnnjr+7UxUlpKX7O/gf4Y2WYLQvDCxRZ1wD8WEwUmTBWRmgxGmJGUU2LWT7nX8bib1ZjqrXa9/UWcti/77iPV96qKOpQh4h4j2VL6zbygpW6TwwEvagE1YtEYp/K6rNbh4VkjjmIg/tnOGHKYAAAAskGeYUUVLCP/ACLFP5w627gqAcJ4/dcCtd2JLK/GPgMfsFQGLLIqk4ATt0GvmLW5ij9Y4r0YIhj5sV968ndoW8PJLAEm7qh3ejq28Zrdhq4B6NqoOTk/Nel75gEeN8rotogGhJqVRUFHJGvQ3PIfycHbNUVKcKM5gIWiSn+IW5xdFCrTJbfygMT0FTll7RjnCzmJ37lVxJT+BfXHfJKontiuP0L1y4V+kOWwX4Juga5Ypx0AAAByAZ6Cakf/ADdSekBmbrCgywcuPaeysnIm92bVTXiI3mYrNSA0AEqC8/ngAf1GHi7Omd7QREMUKAiYTBBP1ZTKsODdOscJV+mJA/xuSe0KZEPeReJdjZhL64plQnOODrOnOI2+8cEQig2/wI3y+XMX0CkgAAAA00Gah0moQWyZTAhH//3hAAAdpCyQfHHqyeLDw6QGLIvAxJLofuyfanMtkmIBXjzEgsxAMpzHJ31n4p8DA8jjjvdbJmLLdKdFzo909cgbQUPUN+XjOtETWrArcP3D3l63NN3b7BxtZYlJGYeLok0HrjJJ/FDov4fXT6ye0YoWNaqZMGgK96OO/OhIDOjef9ivC447NtXM9eWOkA5ApojtcXt9uI41bgyRMytQbeUE5MDEWAjGGJZ4qMLYyin+9t2yJDxJquErm2PmVnoLr9I9XagAYUEAAACsQZ6lRRUsI/8AIsU/nDqk7mdSXlOp+DxX/L/cFfMim6/QgpgCMI8tNcSwziA3hhzffKoNBjp3+TNQYql3Kw8XHTSzsuAG9Xa9LwQ92+KKDitkIxSc61RV0DIRiCzbZ6G1Gpx/v/UWie4EiZyYTQWOrzn18m+MDDfext2bRBxMd2BbsDG1KrwRarJkrVbZijk3SjWVhRCJZkVnxsqwUkXd5qiLEHn4xLTvCtjD/QAAAH4BnsR0R/8ANzhSIoXbs2LffByAADxwcBudaTqG304vPV87ITTDRpQkMTXxxFOBqNnr/7CH9lHrwxvwPha6J0yGle4cT8kOoZGfYtbJ2DB45M25U1pDQ/32r+Dk2FIjTZg5RHq6gmEIFj/FAIbVq3jB6uRX1Sfjp23RYQJAEvEAAACXAZ7Gakf/ADdSekBmbrCiCD4OYn7IFE72UFcRsaVfZqqb9zufYaicfoHwP4QABaUCzFOSBz8eyl/oeS7Uc1nENFhRQvLmmwK5wVsbpxg43MejXX2jHUN63STczf+Q6YRG/H5Q5QyBn3TDOahvgDEE6OznuHEW1Eucx1dZ3cwo7AGMCzQPNU7AqU/hTCvS9TN3vlFWCI2D/QAAANtBmspJqEFsmUwIV//+OEAACCiNNAC11N78vEvAGcDPzm6qwK0+sPQrnfQOGYFluc77ABDshbOiTAKsmM4TOHpQElW8GN+V3FcIcHygLhtaqwRKA6BOrg77RLF6oTH0Embf7/S7eHqbrXjnhZdyd/ulZvo2L9rzl0YdTPNeHze5BDegN3IWLmSPmAoa17jyFHYnmUo91EWHom8ofXn1nNajK1SDuasYtS+nL+xQ50M918bo7VRmGf/DMkxPTIni+SCkravjnQEhu9oGZIgML7LAmMT9IeMx/zsA1IAAAAClQZ7oRRUsI/8AIsU/nDqk7mdS0TmZyRXbNPtqcr9YgP1C3Gku5VvYItd+K90iz4NGtTTGAF0BKgUclXoB8bXWzZ4PHkJdCV8u5oTPeSfQfZBVlTxR88vquxkrxG8GrKV4fq3uTXq5AHPc69j8v+aCHea+XIUe7xQ3MKMUxOxw15JtFsiOnZd70bf+SzrVYbHJOt08l6UIwgYLXyQm2gOX0kx6Pj5gAAAAoQGfCWpH/wA3UnpAZm6woii4zFLsBrOTACRkzoUOWYU81P8pZah8LZnr/Yt9EPs9cGPi2Ce8k9HPlYdrm+6XeWkTeDw0DcFSiYhpqLO9lMLbMK1dR76Sek7dmxNntimmV8Ra2tJ9DpBicsivBgIpAaPmyvyk2PRml8Xe+sEUQUWKcTRBnNpFA50EXeNYTx3sSEi5buOOXvwGxYY8ZrlYuAUFAAAA/UGbDkmoQWyZTAhP//3xAAAUj2ItZzarjdFXNquXnhyc+zTq0ALTaMIwA2zoskrmDi7ho8NTNUw+H6deXdY6vJAuCIyApOAejZd0q7rgRSrggqFwBmvdVVW8DcVg6cUSn58fNwvZQe8H25kPBe4TfbqAArJylxd4TNVAj+qjaUk3BdnOfzAJdRuaFz7lSF4CDkaejoWATFFz02FAY0wzBi2PLJkeGl3KrAxP2LYRIq7Bzh+OPNzSv749h6W6HftjWanNs5SihSOK1y3ts83nNQiXyNTiZdh7VS9edsh0OGJ45Gy38Ni/zkwvM52GCo/RXZaKcLK9JB9otutQrYAAAACJQZ8sRRUsI/8AIsU/nDqk7mdS5YDyk4q+HZMg2RHufmW6N9Xa4rze+4okwDtbLo9ZYqkBfYGUzgBAZBGq+AlbUrgygxS0PCzh6EQ5U6EG1PTRxCt0OTQrpgVcTLRk6JP/0pRJLFXzUTMeUQlzw4na97FcS3mOUbo8KC2yKA4QjTwqxw5QiV+rOWAAAACUAZ9LdEf/ADc4UiKF27NkTayABHnDKQbIlYQlNEpV9xxrHt3LGtXYFTERcIKdfD+o7F2G0XOGHII12q0e2pS/4a6hRGMoglDz4N98OU7HiD/e8tLc8tZT8Q86OVd+tUJBe0kHS1AHoAfC5/h0d6fj/czD3jkV9znR4HiidHAX2CmJ8wlbe7rNHPYldXBPaeTeUIAl4QAAALQBn01qR/8AN1J6QGZusJ6aYxt2ADpEtP70r6hv+4Id82kFbp5gVdxH38u4/gAgFPWXYfaUXU3PlSx09QCzosphoDAEgamuWa8lzE82Is582Dmu7kSdL6uFmInmbtaNkCLPlh6TpWjU/irNNYhtOPfoZLyIDMGH6m0jejRsUw3g5imkOsb89hjB0N+WzmAUqwm9ZJYoJnT413JBbhqhX8bHBy5F91SUQ61mHiXCXgCYqiqiz7sAAAD0QZtSSahBbJlMCE///fEAAAdHf9rLgiHFG01p5qg98HQA+ik+97emJwjYp3///AaXIsgLKbvHHGCQNAZ+KIbEvhaBHU873VnI//IdW//cNz7J5v/n0/MPVQ9hTnNFvsAM9i0Go7rx0nuEVLH87QmTdoD9HrMulRiJwifRR8LnX62zL4hpJp8FnnZKOVgex/Evdl0TONnRA2UEetEHngJ4TPNP7xvCN0RUpIX/uiyG65hIaKHBhXYjZBo2ML9LxF54okGJ9RGtDMprmddwc79n+9ifFeGZ3NoqEJtJBPYt0CLoyinywEXGVD6e551kkgxgDMNF5QAAAMtBn3BFFSwj/wAixT+cOqTuZ0azXxD905iK4xAFBsQg+2RuDLohMKw47BlzENpJDSONffhEOXWdlYvwEtNylvUfLg26EwsBFMJHLnkm//IXq3VSR8CuSRWGoRWMrRE54hriKIPRu/jBoP/oGBGtN0JOcVLhdjA0yr9uM7VIGkN3UzJqs3NLn0SbNSc4fGMImjGonM/0eolNDa01jF5cRbCEGmuBnYaJ+SxC5B6zRTCs0iZT+7r/mKSTd6H1b+cVgx/aUMxiKRhayZ8f4AAAAJsBn490R/8ANzhSIoXbs1KrLKx5O4usNJPphw+AImHVbisSgr6/xYTfEweF9WGoVdK/zkgsMo8u58ToKQylQmmJvNHiNSi55PwgPjiHbx9HbBpk0okmnVk30p/kRE7H5rzPS0CVY35TgPjwH1m2rureBkbejcZIvi0BYoZfVVmbJFMtZAoq3l5xS3EZlWPQGO+Du6A7gNcOV2zxjQAAAI8Bn5FqR/8AN1J6QGZusJ6aYqYtMHl597ffVDQ5nty0a8olo2Y9pNDscZ1To/fO5ExgBLVVeV9DGT3F9Wp1H9OleUzzpcNClPJDfJKzgHmy3vK3PhFI0qQ2i+f2q0Fpbz6x19uMwNWq3dogzDbChrJ4P6oh4OSCDyrKWu6HYg6XndyMToyhMsVHX2HYGdG1IQAAAN5Bm5ZJqEFsmUwIT//98QAAAwLnVj4ALZ5XS5O3kQtzl6XpyO/bLZwIqhb4kaZLS9nbYAxj6+9CCMdi+18s2D+22H9E5mYodvpYkyvUaYCKHufgcJ73kbjpHq+vTLCjPULYs9BhmcDgP7+1EEZPCY2SEVIwK6qZIj33VIdHhgqUZ78sOb2J+26+2dIe7ZtmonKfpp0VaCsw85NgI/zNoCtWHijeUqwXBDUeISYrcK78hEu+zjwkDM9QWQQrr409KQ6rqGkiy0Rlygz6vRVzpaxeo9J5zVBvgr975JUEgYAAAACjQZ+0RRUsI/8AIsU/nDqk7mdGs19nuBVeG0IRp8ADgvwtEykf8bLM0A4/Jh41suSyDoOuaJnU5qmVTGgQCNim/1HtVDXew+hCnnooCaF4pnlEqpP0Me6JLT0gnBT7oS1yN8kpXKM3nomGF7nJQAgXeRdOsRC0xWjlHn9+B40r92mlpSFS+m9vJVhquS7xpAQ8K3Z18hTl/L2C3pxcF1ih8N2YEAAAAKEBn9N0R/8ANzhSIoXbs1KrKzeKjAKDGffk7wADf12FOTt46CnJ/YOeTu0mlNFbJMCqo52bc0qZ7JHrPazKckUaFdrwYuE21HxhVlORj/ga3ml+ejaOJdfQ0Id5wB4Dls9NM1dx98/1Rs+qMGbgjxXnXIirluhrP4XoM+NefW+CSQFWYnBYy7w0lx+lyQrPmqNI3Rur2ix6qsbuq9v5yvCikwAAAJwBn9VqR/8AN1J6QGZusJ6aYptum/HbMo211AADisalSBCc3Ckmb4nY5EpFn/M5VuzhoOEQlyl0Lhw+oP4WVw9a5Vvut0YBXRrMnpHBatlCk+a4G9WWy/LxglsrkiAl/GC3WlebY/3IcdJXzaC5OuesISvgLH55TfwjYew5QwKt13av29Ww83r2hB6gAzRtbYb3LHrkSfIlXyiuAg4AAAEGQZvaSahBbJlMCE///fEAAAMC6+xC8MEzn4gA49oQhHmyR+kMnig+Dp7BoYYvu8lVFImQTniWVIkpi5UBS0ol+AG4hTln9sP2C5EHJm01pQNArHvWqL7znHDgn7nI/sArC6V0UysMi091dcLbT00g+AQuXL7+NuhB56VJSFUgHLeoiOJnYdiWcFe53B2eyTHdurObMOk763jm+YZ4tsS36SEznLqqvQkMV9CBW7WIdq4vpYej+OWA4IBUn73c7nsQz5XwkOW3JoBrf7XCRoCZuKxLu4SlEQgQ7ON96ZuSbcJEy0hzzARjvnZHlyU8DzLGC1yb52aChB8h9zuRNkvxbXdbx9RvQQAAAMtBn/hFFSwj/wAixT+cOqTuZ0azX2PPiDga+kVJTzzhGIAS1F4af1/Jia78FDEKYLEsBqUwtVLj6MCouFfaov/OwvxNoEbu6s6+5E/qJL24mMTxAI0xzrtMMpVovAp/gbsIYGSF7IbqcWMdTpPqpznzQv4F2CZROGvsX9ZkWAJqaiQ5SwGTp3bubd0aaXYrpZnzjCa9LjXk+uVMvj+8+YV2Q7pptiSL0GOliBdNhdw3akgJcTSrWGisDELC/d5h2P2zO3e8OKlaW8MtmQAAAK4Bnhd0R/8ANzhSIoXbs1KrKzeIrSCqad2CwASooWfu7MptGUj9o7q6rg8PU5gfWTD4+Vr6F9vSbtYilp3WRXgo3HuU1uZnAE5EBa/c2mT2/mITO+jeeQMGt8+MNAcGoWgJoTB01yj+/XmuZJgDyjo8jzUOtsCjZTVSAe5V4Ex8oX5qJkFxAI5l2QSm+C3xl8xl8Y0U1vOoViMwx4OmyBB/L8tr9hF+r7/Fju6+NwIAAACyAZ4Zakf/ADdSekBmbrCemmKbYWcJCf0AIkFQYNqOAxaA2H4T+LxMJpzmbtNOJ5F60OU6dQ9mb3KbRBclVdteWSehD6CGBHq3QJH/3wyTVWod844OhRb9eSsAgOKP4QuizhSLh/1hul/WRZwtqE2TBJFHLRjmhYCTqmbwaFkoChqJuPs9X4BaQ0d9ZqcwlELhcyzbwxsJRI+y6I1nh/gxoO6y2fvWjlZHJ0GYBJj/L+xfUwAAAQBBmh5JqEFsmUwIT//98QAAAwLZ6wOGsbk5nIo+E3AEIX4UC0LsxdTfGdPsaC46q6opfa0bUwIptymCcJON1Vp/RE+ZpG2BAGtKw57TAGb0gnWoCfkbOD+bmFX9O4qKTnANbye19vJ5WlwyCN6Z8czAJExNRi1mUmKUw82p05xy73D3+DsHAuzu2fZ4A6CkRq3teKyK+hMegGya9c9CfGVCcaBQ9hEddP+haqL6CfQDF9VfsoWt+O7ft6JzqJ23c4vk5Rhri7JklT6JMLLxsz04qtdg/M9w1AUno3k61o1o3IwcP6JDvRA5R1KmYw7XISdDIJAncoM568mbXrTjkl5AAAAAfEGePEUVLCP/ACLFP5w6pO5nRrNfY80ZqOviilvOR4xg2zD5pzrzueNiDdtB2XNtBgbDE65+JmuQcvjdU/bV+8EABO3UmqUfYpJQs2/TRXspnG7fyCUp5gRHUQDo42SvbLtCd3YEl2T/URw1gPPyBQsIQHHY0L07XSXkwncAAACDAZ5bdEf/ADc4UiKF27NSqys3iNr8AUANTw3xcBzBjl/kOvGNl40JfdNhc4XuNgmdUQMowIV1joWr2agMU0qU+qIz56aYA4vbL7Yf5YktXnhFkHMwB0rzWdf4J/Xe/i801qTBBB+pZltfhqqh8s8sGaII6n5yit/PHNtDzue3/+l0AccAAACfAZ5dakf/ADdSekBmbrCemmKbbWGJszwVmuLUJHc8ABOgYMNOQs6wEXvlEm7LPrgX/lKYqZ43vecnScaHWGvhJUT4TZgb6hr0XsrK8kRkkb68A5zuJtG8UON+K1LvV86dmuee2qwv6vhWHN4kHYc5e3ESKZOzo7xQT7iSy4YN5t8lv4RlErN5KrZkTzH/mWcT6gxzQgAGCLR4gnv4XQOCAAAA0UGaQkmoQWyZTAhX//44QAAAbmwOhEfLxABxF0xnkb8n/MxWYVhf30c1xTJtEFOtbtdDt83FQq5HCc6IFR7TpDyi+vV8S9fjhDIy3L8nkEWWRTjCjmn37TWteYs1tmgEa9W+RrqlFWwCTi4UxSfSUuykL//h7EU8usmrvvD92rd04g26W/wTQkyqpvFfZVJHIxIJxC/M2Mof8lWYHzyUul5ysK014N7hWgf+K8AyL5YUyrWWIR0rMvPpaQ5gkvqX1nScr9hgXoLGS+YHpJ2P0l5AAAAAkEGeYEUVLCP/ACLFP5w6pO5nRrNfY885Esz6kJT7gSlmmgAtG+5k0oSvfZBh22A8nfb7K+autyf0qBCYr6oBQCwshdj6918eJsYqNu1uiRt09PMTXU2xlK2AuG0cuwYU6WuoJfvZdP08PIBmkqshKtrHM0fqohrjPWLmzY8h06b3nhpqXt3CDLutolkgPGE44QAAAHkBnp90R/8ANzhSIoXbs1KrKzd2Ixqo6WBcnvnwTdVklVotn11gKVr2fCL6PPuhR3Kvg0V5UALeAZMo5uoKb5OKAEnPeODwWWyDjw6vDw8Ug+oGN2vyvP0cfWZ3IbGZbtALlCeNCcFjuPYtTzXJjKgi/H32N8dUsAbMAAAAbwGegWpH/wA3UnpAZm6wnppim21kVEK5pAkv1UKd3hIAskjuPOVwAA/ZVVSWegUX/2gUZGCe1MJE5VkfgyKnz3BJfkCVom0HSeDIjn3Z6et9IS/fc6kfRJX9yjJWGFEOeZ+gBbdA9/okjI7QBUICXwAAAQJBmoZJqEFsmUwIT//98QAAAwENNe03C/RLs4tPTsbUAQA4uI+fCA2HVTdkrLjSbC0ISuB9I/TGdoylvvtCXPDL0IC3lFulotnJiWaMN+6r26yzEuIfL2HwlUL04dt7ZpWScCOtAd4433EyUwkuX8D8QESlkQ0hdBx8aOnAyDeNu/TYaqrjGXAj69PsoOdA1MPpy8nDfJOM+GBr5cDm73qPB3CCThP4/SgiBQvx8SX9FzFOIMpFG+MgQ8WvFLc0tdkr7cqQeRDxU2Q8bttzFLk5KWWvbfjSVTWboNqE4aUl8NSS63rY4aexnfMAZ5etWclAnJi9bIlbTHi8SB036tb0r4AAAAC5QZ6kRRUsI/8AIsU/nDqk7mdGs19jzzq29F92t/w7AA4zkim6s4ViowVAycNzBIJHG3T9fusCLiIet1w+zyNRoObyNSjYf8Rufy8jqNwHp7KjeX9o98SZ0IP6iUap2ZnfQ7bV9aWst5gHmnXJa5wMHeUdkYyemnhfLEYghL4YjAHLYWtlbRsr1y4nbCQ2TkDnKNcU1iH4MHJseS9FxvfqmNQIPNp/w5jnKYQ+6kyAEnwgE8qB2ddtircAAACzAZ7DdEf/ADc4UiKF27NSqys3dsWEehl++nqEAAcGe/nXi8GY08M1M6TypJJ8lXe38aKODkdjjSqnhX0JI4AYGeii7F1dOIe03JLz0WMqxFjykFAqddV5UztEnUABBjb14B8RoDLQoJ7dAI39NMpmO9j/ZirVd5yOdgfdSXnK9pMfoVm/IKR5Chc3+80Ft8obQMU16qQ4zu9DSuwroN7/64CQ06D0JGjSVZJ2dXZqJ6tr8qEAAACXAZ7Fakf/ADdSekBmbrCemmKbbWxNaRcOBhIQAvwaIJdaOXmy8BZ7aIDZL8s0coPKNmFKO7/8/xOidjMcvITIhl06LNque2ct+5tPj8vSPnYBnwA0wzhrK5smy+hdSQiduV6QC0MSIgH+DzgIyrrW/bZqKKW6GmA+u3tuFhQ2dER8xL5l4WBM1myK/yLpkfXKQBt6bVwDjwAAASFBmspJqEFsmUwIR//94QAAAwCkcnwJhU941HvUiHPADjyTjf/I2++GX3uQXAqcr5VyWp+kXaASzjfHpkgbF7Wkf+PKHGsbCkKL2OvUVOBePhHu5JpMIr0AFsbNpwKq2ZRYu7NVGNNpJ1RGHoTDdZhjzTOUY/95Daj0bnuAWI2JwUui/z4SvHKZzukUkl68AEnW5sE5GPSoNqWKMBUmvsy8ispI83QYSRKX0h4FoGkTlRc9IDYdiFlgRXiR4J+D2R8t/TLrLK09wfx3H7vArHi89ovm0dtitJ2XfnjvfFnEbn38VGagVQddXtqr9J5RXUB6yN1tWDWBr7zctb585CBY6POYIkKFluieIL4aJ0EHmpBZozQlbkvuC5gtZwaW5l+RAAAAvEGe6EUVLCP/ACLFP5w6pO5nRrNfY882OmZeG+BSfNCC2sVUW5UQ3IILggf/SJXkIFrswm3mZmoDdatFoKbr6AEp8nC7Xf7o1EShJQ13sMuXqv04y8PmajlRrX8wcdmaH8ZzLIAECr+RtxvHGuM83KNDmXv1yLceNzvsdxel592A8+6emXldSrVH2176SDEV7rwQMHzHYzqf0XWULHDZZblDJpR8qjAEtVvzvleXV6yMsh6MTryWbXhgHhknAAAAdQGfB3RH/wA3OFIihduzUqsrN3WWQbsfulJyTfqQCL2v9Y+XQhnldO+Hw3ED3MPd55sspgBa1bKrGsgQ5urYp6quIlMCWuwTqwDZAQQ5foDAQJB/lps67wqS/l5BCFiPpgCYoTIPMdbKXAMXvAO37xXR//aBOAAAAH0BnwlqR/8AN1J6QGZusJ6aYpttWV6Y8z7z8VlOaHFkc+MehFGYn4W+JgU63xgmbKX84ACVWVyqjJyFERaJ56Pc8YGdK/4KVifBStJMBnrW2OnHYnaIFoIPCb4ycNYtvYlMSyRopO4J5rEsrXYUB+VO0dCbQrzNIq5Cke5e+QAAAOtBmw5JqEFsmUwIR//94QAAAwCjR5eAK31JqlBs/c9Ppmg2+9GbYxAyWeGehDUUWaQr+Od14wEEdIhRivUNMZn/4ftMvmWx5gt8M5jwD0Xl5vA+riWYx63OZ6Fte0zeJliXD+ooH78VuCaCyvVONSnfEyc9dPZg+/NzQwbR1cwIs9xF6zNHE0PiFfD5oaCvd7f7Kl6WF4jc9kH3ms01XkQ6MhHoD0kfkg1oj/ypoRnodKLekev4Tq1D9J6UgwsMTrLz+ZIQcu3jf+EcbLL3ssphuav+r018ApImu1j3glZNxspD87C2zakDcYXAAAAAq0GfLEUVLCP/ACLFP5w6pO5nRrNfY882ZfxqZyit1vB/tzAk4RtIAHBbG4Ykfh43Z3CTn5n1OU9sFwE3Gqa1eGRZVWSK3BTJIn22sdFCqT8c5UC/+VRaBw2Iby+ZnRv2kBRm108Nm1l2CBO5wqF+i1w4sLUGzWKY+rx+m4ygL65jzySJk6G20XIisrXq6VTewvGsg1REzLaWey7Nz4k8m4F7vqw/hMvz1Es3oAAAAI8Bn0t0R/8ANzhSIoXbs1KrKzd1lj/kh5oqa8KCDtedgABaiVTNjE/7Nh/w6/x53Cs4xK1MdpLrz48dQm4Zg4lL1MQHB8W5C3iZA+7oa89LwvDDWtdhHUIaE/VdVJ/W5jjt3XftxhEwxROWY++mTOO3eFnNzas1ex+ok1MOB3V0lHGOL8HD96w1o2WN9gzvdQAAAKEBn01qR/8AN1J6QGZusJ6aYpttWV6wdPtXvjUbTdZHogFH62Tc/Lohp4CEossiHMc0rIFq56FA/HxhYgXyIyyyelvhOSmnP6AmKUZikdD+moZ5tUQEkGwFZg3jZIIZJwCTplxup8Ok1/kGcBZ23sKAPwWn4GY//DXq04yE4/gbO16cMFVbAG2+S7MsLMHTu0ZqzkH4lqQrMl5+f/7+tSRdwQAAANFBm1JJqEFsmUwIR//94QAAAwCketXqulCpLigBbgs5tOQwOdDDWP5BYQTPxt25DUa+pXwx2yCgFjEEz4MX45zH17Gf1TR2pnEbzohIjVoKHGlkXxuIrwkk1pjQP0iL748XSguU+ygkdQV0bAIVDgsC4lcuxja1ICDOgyBNNRSU2NpImSXdtDIn4vQkP24AvBJFqNBa4/Lr1MZuJoOacYLeTpcah4fK9BViRSnYzIKuWYaDQJFnEayuU3xIdVr+jY7khNuG1YcZDB3581EIqVrJQwAAAJlBn3BFFSwj/wAixT+cOqTuZ0azX2PPNmX/vHmiAGatP6miqwxDtpL2+PsP2inzQkQ05oj7RjAtqCa+R1EDtpQ4b4AEL75h/SZG/Fblrpv71z8cHeEgyPCqIHamP+oj9HmfErP5oKZYFzd0Pb3yegf2rYclOrrXgFZOpEGiZF0s+OKhSz0jMNpP7pDBCJTTfvwtif+aQrA2qHgAAACgAZ+PdEf/ADc4UiKF27NSqys3dZZDT84ANe+4JUQJ2NyaJtABH2YIZuf+dk9XTbQvCm3Hhx+Obf++NMRNSPjp2GewH8G5Ls1TWyBad8z2SI5mGeIVvtdgBvyDX721kN3ZmxNg2TRQrxjaJyjKNWWs2EWSk1U9+vAUOA7xpspKYNOByFGygKRu2y8gtbG/5ZsiNDkXh83LaL6kp2UnDPw++AAAAHsBn5FqR/8AN1J6QGZusJ6aYpttWV7MHsHLdhr6G8QoZl+V3OSUjfXwAEEkQePxEv7mAoGWpttI0leqAcbV1IgjbZ3ey63dExKusC3+p3cFkGhpFPj5HjzVBG08KrhcCqEZUttPLlNd7Xk9g3w5z762/S6ugWdx7iyAB80AAADmQZuVSahBbJlMCGf//p4QAAAKjzLo9EvyzV/7LqbvtWACDjy7qgLxVKUwx7bNsFlbB1RoHZfoZgItLErI3HahX9cKOxdHnUIbQtOyk9z1zIEhMn/WLjV4c/vnl6oS5WtPdp5iKcHiCy0B+KmohALZb/DBK1kza4KpgrHPvX7NxN1LRiAvUYwT8UzrZq7K9SZy26yRpRrTwy7MVzyn/H2JQqprovPL79Ji2G4rA0i7G4pWlMCMZcq+yaXtIZEw+IzBt344QJoA2/F55d+nxktYUnVRCGZZU0ciZ+AG84K7/CfuSyQaVJAAAACSQZ+zRRUsI/8AIsU/nDqk7mdGs19jzzZl+87OFmH+UgBuaRXWAZ6I576s716QZ47v14Q1rpszvH6HIiYtUAWEIxQVWweYKDDEG076TwDnDARvGfe9HZ14zP34di9FFpXYZpZzpD2HdiHylsQEVAV4xu4J6ymrl1StccDmSclKt0B+jcC0SzDTIurQfe7gaHdEu4AAAACOAZ/Uakf/ADdSekBmbrCemmKbbVlez+UIACwQvImwe6EWA/y5WASQ4+UhhiE7uoSkvBwHAzWPfWQhxWPz1NcoSv4nUTzgxGWn9A82bncmenZhO22yUEJ4igraHmovIt+kW5duzGYJkMPsvf5cq0wueMKhaH+hZ871Lj6uTN4mjl0nOpoTpiQS/N7jlHlT0wAAAO9Bm9lJqEFsmUwIZ//+nhAAAAMD4737TFz7fgS6UgQA/xkTAcTHas26KJpngeTdHFWuKqHFWfbsPR9Ud8piRt5+vqHFqRJsAVFiOi5QjXWM3qWDxsP2O9xYMb2J568DdKu9v0z+LM1sMAB6SIIayRyHgeArImZ+bCDG8yXRhMeSIdndEH0lZROFP1BBIF6OnFn7CSnNvAeNFnHY2wRZOyx82zfpA5YCMO5LDOToyN9jybrwSgjXkTU4fBK7NSqD94Sw5o3IKnFYvJAwCgwZ8WZBaxzji9qAlCAiOzaNlKEda+IqOmE9cvo/V75WrGWaWAAAAKVBn/dFFSwj/wAixT+cOqTuZ0azX2PPNmXZZpRp0fDhwhFrazaB+v1pLYAW3RpwvnVuSByhtQ8w66k+288If+bIEUzeiIqDC7U3GbLJY/oMHNlIk6JYo0mlmtM+DrdYZivwC2mkj3R8LjtkvidDW8qvmd2b7A0/wTE3CLb6X5UBuxItJBxmGttg65ZLTas4gn8jxACZt7cKQfC22Lv9uS4oFQUisWEAAABrAZ4WdEf/ADc4UiKF27NSqys3dZY7wYoJc3EVu69aJSD/POfxX/mwALf5nWTN8XfMPA6Pu7RgiHqBDafGgxB18z5Msa0ZqQ/DNVk0dwqS9MtInx2NEJ5ZPs1gamSlcqi2+U6fWxXJO1RAAj8AAACBAZ4Yakf/ADdSekBmbrCemmKbbVleYc6EZB/W9baQWvb5gCg1pLZMKqn1iX7mPt5aqVNiHpNPRZU3d4rsUqjnUY0/EhjA912A45uKvZ3SivZ1+9Ok7c2FzzC1935E6BmG8ReXhiMs341PKrJWcecpfZV4aogvFMZ2PqF1QfrDSgH+AAABJkGaHUmoQWyZTAhn//6eEAAAAwP7rn4NUpMAIU9LadpkPzCKDZaoNq0Ypu+UDHoE4h+HRqNeeNUKMvIP7gkOuRjcPn0Dw1PQ6jQZwdlOw3zoKa8DdLsi+SIO14ngUySHs+ZCZrZe01zT0mM94c2yOpMvwCtQMittxDwdRBqRwsV1xTeRAE2pnuiYfNpUUgatac75ZXVu8aIiYBQILy3CSGVkDvsjEmKi4NdCg+4S+2ByZXIOJ2s7Lyxt346aap951kp8r7e7PJhTL8RzrhzLSyU/3zR7QQ4fHqPj/vqancbbRj2sIW762SHXrJSwy6UQGXv+XRJhAYm/t0uoZw9eC+Oa5kESx5fRch9kuB7tYscGzko2Sr8RUUzTI3NhpV5v0rhIV5mjrwAAAKRBnjtFFSwj/wAixT+cOqTuZ0azX2PPNmXZ3I1F9hFYAhkSbpHqsYFC8Qf8B/Jo7tgXU9tAIxXZiOGay7PmvnLvXQWGqTYNRDiSfKgO8w2zC0YKsnMj5TRsnU8sqVXZ2FtJgKf5bOtrCfY0B3o4awSVSF7Yj2/XGBkrU9g4bDEh/434f5Cxyh/wC9cUU0PMW63iQb0vNRELiVWMSRFN8BuVMnJswAAAAHUBnlp0R/8ANzhSIoXbs1KrKzd1lirHjzUXX+R1/f4kSsWXBZ8WzY3rc9gC8cAD8K1VvHiD3uppxgBZfK5JC11FdV//ytD8oCL0rP+QgbQzwnApzbIW139xoiW2pIfUjS/AV98Vn+T/1gYJ2GQTxAfVyoBbjZkAAACIAZ5cakf/ADdSekBmbrCemmKbbVlddjbqT6uACWQrIqJm2aF2rK1VCuknxS7zYjtBAX3FmzafYnjCbjibdIvvzKXpuHsIfYeknTUJIK81COZ1OR3zHtt7kfT/lha7KgqaCwC4C3adUkCNHoC1WwRCF6+GTwNyKtIl6xPJMY3wG1fGZ4bXck7MHwAAAOhBmkFJqEFsmUwIZ//+nhAAAAMD9oHYnqQxAplNZrDWJVJZIum6HIBJx9EWZbsV/0RW7jTpVS+HjyXEZa4IyX793Sx9022uKYu3tVXSMZsPxxT+5bdrhDl36zqpYvaPos7ZWo1l3YMPY9Pim5YdJMh1qZ/BGQ/yMI2cJ8y7UnZoFcjnKydzLnM/ma3pi3D03L/SWNFKbQJPVT4MwnnODkaSl65xqH2Hl6MojRVcSd6bwsN6fD2VAJIOixed7fh6FWNGeelfr/v7lgQf5BbGDJIqySTq/2wknu5Vl02cmmV1VnSyHVz/uvxYAAAAjUGef0UVLCP/ACLFP5w6pO5nRrNfY882Zdnrzng3mnjwXqXOPm9AB3sT3cUZKVvDTEcSj07tzDZC8ntwIbseR6w7mUP6HNqC73VgdzaeJ17u3zVOGez+vBedfT3dTxihAp/Sp7NsZH7Dhnnr5ad85xlBXnykMP74Wg5kmUCasCcrduYxlySG9WV3LUx/gAAAAHIBnp50R/8ANzhSIoXbs1KrKzd1lisalsAHQAEdMNpkE0wWckfPjeTYFuvEboibZSHl/sRXdPuMNKSvW8WGrs8idKnA1yZVbwCs9iNaUkMcKshQYiprfXeLbE/TxkzLeAtPJDul8cD5R79AOyZWljfOWD0AAABkAZ6Aakf/ADdSekBmbrCemmKbbVldcfaOk2dSJXDjPVOObAA3vL1SpGb+3Tyuk/ohy6YB+5a8+ByjqRhTwoZsk3GUDzfvVJJjFFBHL0vtnzTASmWI+tJAdKYDD/CjIffRgxMCrgAAAQNBmoVJqEFsmUwIZ//+nhAAAAQ7jz4JN9YAOLRVkRDdmWQ+QCU/6koKenLHGX5PzPfCPZ866Cy/a8Vqv6twsCApttR1BoBTOZGPuL6uK8/VKvFdvcjTqZrrtoLap6WNmLZ5R0eHAEr7Cu3QbvIvHRyhAI/Dyt6ztfOJPdjao3pQJdJPiBeN4KtxLRELyXHDdKpp4cYn2d2FR408ZmbY/13kBC6G8C58n9yRgrMqbF31U33YeKfUMYmQw9upUubiI61ljmXLPDPwRgbm7i5R1lpjo2BGEo+GgmkAJ18D2fR9PS9wf+1IVSFcULL7EeVcXcbSyeOGuECK0hZfWCPTJobiI7wRAAAAj0Geo0UVLCP/ACLFP5w6pO5nRrNfY882Zdr6jLVQ/iahmEYAH4kgjCGLNlkWiPk2t+Ar0LlG/0Muj7KC0w3pQgLmdOPpckWmlth/hJ18eRieZ582VbhlK1s00BOdHSLqTjSi4KhMrSePEjqOt2cwTXhgIuQIwv9IbFZAtEdoJftCIVZtKrYZiVwbIJJ1HVmhAAAAmgGewnRH/wA3OFIihduzUqsrN3WWKsdvBqkII2dPXKgBvF44JEZgKRAzAYydHxo87m/ecHor1rv2oxKc9PWPK0F1EwWd6/G7Yhh6axti3zCn81Q/8shv7yWCiMeIjjs7sFthPpYRqA8p9SAq/PqxpSWp+pcYFEvIvP3R2euhishHiaSLcSaZxiAcJxsG1RAN3P7kbnBE1S0IyoEAAACXAZ7Eakf/ADdSekBmbrCemmKbbVldfysIrekvR2he4gBpEpXlzJ0kxy5WI/RhHv/n89OHM/J58+OG7Jx5UNFsG4ShZSnN/CwJX9pBqeT6Kfikd7EXq8NDI9XGf6Hy98Tc0f99jmJpSEaTH8LxAu+hqj0Q6dnEx6k4qOEa3j9TgXGLymhbw0kFEguwzCEyU5ITDEc01f+ZbQAAATFBmslJqEFsmUwIX//+jLAAAARH4nW7U4yeCruV6c6DS83YARgx562oBFRpAzu54L38c6yVwGEP63F9vLygg2MSJ95kfPjycIYPpM2te1fYDbjaGftEpP9AeGh3gwz1+KFNQZVKjsMWE9P3ixP7Q76JvdbjLJhVZf/Q2LXeDzeD7hsmMwyPM2Wj+XlKxFvVvrOMUW7JA+5c5dWeBPgHEnuQ5xVjAG3aYry44rqz34/DEFTQAiUXr6NnNhJrQ9uTP3Ah5OASq9XKbVFEKs3IoOTx0hWt/ZkDoCTtQvWdj656NpyCa7Wm+Qkmix22PenwyX/cjVPIYzXDltZu+1/4XlbTyFaw5y/eDF8/foWCzxPvBbQbVToyqahDc9ufGkJuv8uPtB3HIneA4Qv3ZvtAlq9H5QAAAJZBnudFFSwj/wAixT+cOqTuZ0azX2PPNmXbB5gZxULKP76ADXzU4m3nvbKVflqSxv2/Q6BMVT5GY40Whgw3PGsId5q+3jd2mY4D2ZNyPaiMWX48o2uoTJ6hDzHXDZM+vK94gDmjnfuOOPN2g8JehL0gSAf88fyqswikwdQBxBQYGT8HaYaX2Mkea0asWVn8OOxuSvT+npEAAACeAZ8GdEf/ADc4UiKF27NSqys3dZYrZnJHlwdEAjUdIPG27RWrucNd3fRjC/h+OeTjfZssMbXQ9FPYx05nsXRasQ/Bl4n5KCQ03WK7s7Dl77FwYVCEDuEmAOk2PwoUrI8fBrR+Np+ZhyRGcxV8xAA9wAAMH+Ja61aHLAv/gPDoyeWmmGMbLIhIReukrZ4bNawfz81TohQMeMWu6Y2kAu4AAACEAZ8Iakf/ADdSekBmbrCemmKbbVldepGjH6U780icKAABOKtqtZtdgXh/4t7ZcqrTqx9pKcrguHyHdYlk8+aYL5CVGhrFTB09gVwYgZGm082z4osuTR77q6NT9ZNjTYaOsUa4/y1BIPjC7DD68KpIt3b2gx8uxFFKbcJtAx34dTi9gaTcAAABCkGbDUmoQWyZTAhf//6MsAAAAwGAtVfL3vOpsrJGAEGwWQ6yb/X79Wkls7k/RLb/ruJqAgGZqJeHUqwHVE271bdjMWAjgBdGlhARgnB90tvbZAccmRTJYECqHoBpw/h9CYpp0BOUK2ttRw5lohAglbeOGHy5LMdezoAGclF9mE1544xMBrjAwj4fZoMj/NAb3OKBj/69vLgWttoNbip91lAm//cxGGNGbfFknWoP4ZN+GFkrFCOJyWv3EERwt0Pp15F4ZHpob/xJNvqGinQHHBLHoQIBc4QHk5IGYo+kLIf4NvbOR02IH4fFgj0pKpjA2F4RBFIrRmJN/ke9hy4Qs9+Den+WrJIkaJunAAAApEGfK0UVLCP/ACLFP5w6pO5nRrNfY882Zc5DS+zZaABDbi/NouIsazLKjBm+qojtvfA3stOFFQjE2wCTQ4JAiwHg/vElvP6xNFB5ONtRnFBmMEcHA5OwqN6kXpJuMXpV67HXDaZlTVArHzqb8aCoAttAoMrrCdGc6sPEvRThD9QLsbkzXs3L5puv0HjhCsoLIa0r5ZRu9zilhwhEhxY7F16oYTpgAAAAhwGfSnRH/wA3OFIihduzUqsrN3WWIriWqDzjG8usQAJqeONUduHyv3u8l1VDHXri/oJy1B9KArhBucvtbJpOCQQ9F7wR2S45X1kloe/RsGympx+znlrjwAVhFZl0fTsAhyPph0kFuhKwfpjmGIMjbeNrc7DRbYa1EYBFkwnz2aKZhEX9yKKqkgAAAHkBn0xqR/8AN1J6QGZusJ6aYpttWV0EP4B2iZT0igBIvlokwEmsFEG8YXi0Z7KQxzgfSyusdVI3rA0Whpa+h72y/2IVLjlYqGTc4numcRFAJXIrRm3jg82/eBSmnl6wXAEeC/UIae0H2AF9UTI44L0jV7U529M/U+fBAAABFEGbUEmoQWyZTAhf//6MsAAAAwGAlEDkADjrv94PAoJcYwq2BdiW+Hg9YmMwON0+9RUxCZ+S+j9o8KK2UkZGudD7dkyxTgoNl92Cr6f6K9Vx7ssknmpFf3N5QfZYYX8XFFTI1fNjdU/nv5nRXzXsKXBsriP6MuqcHpg/4dZhCHrYjJiPrpAt83TFRVIzZXHLPyCAzLvqYEehn2l1YLp58Nr+Fs7uVZcx9lSaHoegSxOcDwwNZ1kbeeDiI1eU23M25LV5egnS5ZLYnioKfmSP4CN0J9aLKpvte1YqzoA4ciIKutyxX9Hniqm8NyLS75NK3wn2MgDJNEgb0gqh+VpTKw/NdWI9t6e2FOxYdX9OSfTIu0v1XwAAAJBBn25FFSwj/wAixT+cOqTuZ0azX2PPNmXOSNmKdfZxd1YmXCHNRABw87oLLhfhaWOW9wrow26hP94qTYSJ+GYhyagmw2CVIjjmGC5JTS97CNK/izi0h3ocH5dRaWoJcpqh8+u0MRgryvHl0mNyhvC1bAgI6y1sgDNHy9OtYtfsRnpS3HKHlHdqAfPSnP8wV8EAAAB7AZ+Pakf/ADdSekBmbrCemmKbbVldBTIsPJVw7pACw7prk/JUZ4Y8IM+/Jifc8saUsyJIq46AxXcbGBP1u6+yJpyzleMQT4k3wbaoJRa0vPG4nFiGSW/sbOGhoZuOaYIydEoBEQT7Rg/CQZdPWS8ZMttpZ57Rs0hTz7QgAAABTEGbk0moQWyZTAhn//6eEAAAAwGd1z83XNomADlMOGPQrOU/+6yOvk82X8yVtblaNvFWgRxDZqMry0VANVAOtygzSYCOXXfbulpfhO8xO9rqtVDFOcd+lGwZ69vomkdYX9Bep+FJlKQ+CHzF+0R2FF1Il+N+zblAtrK+QByBTgZJBC50rOJmC/rPfa9c50OWqLxKVCjf1Wt8x8Ym+1DHCPbFn3T4XfcMZCXJ8vyh2P47hdWyt/xdSEgd4qsUcQPanlQLgCMKpdG6LmUxvfZg9J0H2IHvNHt1XtMbeVi7wNUyU2K7Ug4FJVZhS16znTUmVx8ei12CnUjp5g25rfl8QUkcygSfN01OKN0wd4u5oUz/tDt/JY09DA43Vz/eEemnn/DAjDnTbLRviJuaA06Bq+u4zldKv0+UmLJJHZQRxLQRl3UN2HaMeOoTgQeAAAAAnkGfsUUVLCP/ACLFP5w6pO5nRrNfY882Zc7GBuwaIASL+HLUxg9M6673oXDc9WnFZxYZYFtRqOj/2Epy7u7JqsC4qvXyntuNH8kkDKWe5JqbGwu5nStIEsMk0jrLWjltFWRz69Y0D18D1vUDDaJ2zx12Vy9rdbLLJQ7Vhn46XjdolGWuNt8Bh+3eMIWwUWzm7BdOM4hQqa/pYKRuvPmBAAAAhwGf0mpH/wA3UnpAZm6wnppim21ZXQsBfWB3PtkYAWzoVVvHZXXcxjqXYvWTFbtONdERJvcXwcnUfG3R0w262RRfZw7IwqPP4Bo+hWgINXcRSp0oZ4nxeDomUi6UJXeNCeDx/hKzvaIGuMHBoW3T1LtwMmOQv3t3Fw02Vz1vd4kllGpqWJQYEAAAAQ9Bm9dJqEFsmUwIZ//+nhAAAAMBnfY1Hke4+HBb/RrIeUNSEZ+MN1MsALViR5BJ8ELSe++Fzcz3lTNzQc7edoBUI3iOyb9L2VO71XA2bWVDPm95DmcRJEi9sdFI5vLbVbvq9Tle1Vgj6H6IfcTKbvCPjhJtMOxfxMDRSlgkHWUAOd4MEJ6sj4UQw2untXkYE/0EF/ZJzVtuXkaC0IxkQXXJO/og7EBqjxTJjv/+PGZ9hIu1CNo2jEyVJl3oR54X2zvvbOG2IAva0EXGnah0VLmsbwe9+FFu9vleiTqM1S3p2UO8VLeNIgMUa+vPBBzlGpUVjLjtBCYf6+t+/fQT+5yAu7wthaG+zeMqqREgKX0gAAAAsUGf9UUVLCP/ACLFP5w6pO5nRrNfY882Zc7Kr1sjvk+OzH9J9k9vbPFnbMxwa28erbgO2a/O/VrHqgAJkvc5FbErfhtzmW1H6gpi7+vJRfNzUgXptxxi4uU0gCDNJJqQtD7TUkFm+M0cmYWShdeNJVMkP460fx9lkEsmhWxIjhyn7YLV+zhA37TcUph2HjDnkuABoNyUiO+UApg5K+XDApGDNU507VChx8frf18V88UGVQAAAHgBnhR0R/8ANzhSIoXbs1KrKzd1liMVpBnkR5XAfzqpOzaNC4kA0VaqxuXZRet3kjy51wtI0NW6U43oyLaKGOL4GUlGCZvbnTsJABem1L2+6zX8jGZelfelNUzctV2uSeEX0+MKnzkKIUM2znlSEGqpuTk3hDP5BvQAAACAAZ4Wakf/ADdSekBmbrCemmKbbVldBX0Vv8yVqzgMqmD1f38zilsDDK6sjJcdSG4r5eagA2/dFupzn2NiDxt/DccUmHw321PA7vcxb7ra7PLasNRno30s70W0yyKyqoSdbF451PNmtmfRCjOEsP2cLr56yH/UNNQ/zU7RsK/GpK0AAADzQZobSahBbJlMCGf//p4QAAADAI5ste7xn84AE7XWVxOF7ymt/mwG7v0Zn2wjxvP/qG1MwAKJVtFl2pcpt1yk1ahAlf4aaNfpuGchzllDaHs18rNJRYaJz25TkE/UccMP3tzQ/46XuqcIpSaDORXiK7vf3O0LRW7qsQnbBiCDtDeRTezNkEoYm0LyZZ2/g2sIceXr3026KZFS+xh0VMayLbIPpRU3o+mgyr/Xb0nlg0Pd97gKrJVXVoGw1A6A44N5L1AjBtjcid1UH3Fpq3BZO+DYz7JhqSWm0Ny4hhRJ8AuVd08P7pACkFpuIqDZjf8UiG0JAAAAmUGeOUUVLCP/ACLFP5w6pO5nRrNfY882ZcoO6CA/vLLVCDABzU7DJdf2H21iVsAN0G9gOJhmoY6gQGOAPTB3/p5k/L8BI3oyTfK9jbLxmDdTOIFhYfy2QwDloKIatMhNqF/rxY3jb+0Lr7R+Rrc5lRSjeL3hxcOHr826+kGZoyZHL9fFd7GoG0Nunr3d5B3NujtGE3yHkgx3QAAAAIYBnlh0R/8ANzhSIoXbs1KrKzd1lh+5M//ibme9LbEtiJK5ABbgnydOAm4u5fwZh56S1nnBylg/SBp2l/8vfoeQshksztjLQtHLuzqdx6VJ9vrqYjzLLZiKICkL97JZVhbJJhG7Vd2k+Rex+bNy6bb6MFcQE8Eur9sLe494RZnnE0O2js9m9QAAAKQBnlpqR/8AN1J6QGZusJ6aYpttWVzd6iYanyeqNUAEczS7jhd4IRcpfvclU5Q6/73VHDvkkt7f4/uva4CUZfljv4msNY5P0mgY8NSrsbOILb1cpOj8WBzfS73BupaOoKhB0RvVzcmUwVJoEYBB18j/6QJ+uh1gtN0OMiI7mvjQB3oN8k5POJqnlMJVbF1S83pFBwsmuNgo1WCziFrQv5wZ5iJ6QAAAANRBml9JqEFsmUwIZ//+nhAAAAMAlpYQoAJfG+GZjkYZUBl3VYOYzVG+rJb+BRjZTOigKo16NeliJdfyh+sK1g67SBBG2nQ9a/lP3CWarsLhovi7REcyIqRDgnZ5cmE9HgIwEanvEAImFc4Lawt22gK2SIS3utCSUTBoXZ8+c+SWa9pt585puz/PH+YlBdUF8WpMBkaBjhPVbw+FBvLV5EGTxes/d1qYpKk4X74WRI7c7SsYCJMTTzz+bO/txtoo1QZNuTvkW8R+5hJ09yEziQk34CfSQQAAAKhBnn1FFSwj/wAixT+cOqTuZ0azX2PPNmXKNk46RiEK+gBCckq5qShwNBohUILfIgneBN0P4WbbcbZKVPQNCamnmB+XkuAco2V/mMNWKotiyMKHrtnMjaXxfkq+Wlb1K5sKFTdUsRsEf3T/ksQc38SRB5C6hBJ+lEBaGScEuna7u4UqT5U3kFdn6KdlXHPc/gtYDhG/38s6o+BJGJKhmfLOtHYfJAPzBs0AAACHAZ6cdEf/ADc4UiKF27NSqys3dZYiNwjrOjU7pJOqlZRdNLXU5GoyjoAWAQF1VZ5glQelEB7ao6uiT9PTMjOw8a0N9ovVqfbsr5oAazgDxBRSZD5VY1UzBD+p6FD3rZcSgMxRQ37cSiTF7J/GAEXnZ5gCirH//B4aNW2+3LKEMqD6seLUACHgAAAAdAGenmpH/wA3UnpAZm6wnppim21ZXP/xxKpkb4AQpYltG/zgSNv1bCbrIFWwtlr6V48vEB/jqDrxv2khLUrvSahXEz6fVQCvCBx3QnnxANv8TO/EdKfdwFua3oPCngNvWal9UCYXiTFDhKqtqfsgkpMSbkekAAAA4EGag0moQWyZTAhn//6eEAAAAwCWo+vbyflbHojPgBboFYepHE4Jdiq3/SvfJMI02HuPcKa3eclsdk4Q2yrYTcw3K0TyaJAzA3HLbgJnoWhaShZg3xAQv2glhyu79jCEMyxPf6/KoCpSp46Lv/+ml9+iQ3Kld1/9NhtnznY7tPf4mJW/AKijhmpkOstbQlyO5oASmpj3TWeRyeUy5x0SEwHKGBy1l9wFaF10YjPwMWHWfdzgYRx/xvAlBRxHbbhIcfEr6SMDLRUyrMFgqFXjt5cKEkch8ifgpSRmq0fuEbFhAAAAw0GeoUUVLCP/ACLFP5w6pO5nRrNfY882ZcpN708AG5mbkvecjikT6aI0hlUKsePoo+GfhYdzQchP94XGWcDffN4Nqmi8t4Ai6XO8PU7qwiXaY0eioFqSyKGU4ojrMvYQmZMbQKWS39HD/o5f7nhnAR4uTTYwXY3UoW0xtvhXFYakSCBKlXaAaNG5a+FNSo38drLbSLSH6YFt2xhEkO4bs+wAYRKw8DyShiKr5jKQUIBGRB2Kf4zAVfpEWpmCTy1AFAypgAAAAIEBnsB0R/8ANzhSIoXbs1KrKzd1lh/mcPHXYAJY7ShFMIGl0rMUEu2JRuiwuE/X+giaVn3nGxZW/uEHLcDzNG2paIF8v/WGwDEqbLdW7Rb8yAIsvCo/QFxCdaCwYb2gnYphvsZtPGb3TUHrz7AJZziFr2UYFvPBWiVtznZ4/SKy7oEAAACGAZ7Cakf/ADdSekBmbrCemmKbbVlc4F+V87z52p3o/SYuqAAcUgtpohQFIypX95MWK7GKh96A//vMDHWxNaAdYG7RK3tbd4Og7UCu5sdir+D4fkxguWWQaP4chwzCpJqqQgTlit3PirRyn/gS4ajtk6T65NAzWaoZoDsS5LLORJNC5hfeUasAAAEWQZrHSahBbJlMCGf//p4QAAADAI7WY5KOAQg52/IVPUYOnz7V2MERNxNjEmbY8MLbl+XeGhIJFo5RqAksPiHo3owb8rEWwpVeBF50kexKGWNDwms+Ril8eqg/eRQJevMPlaEFGKEX1qtblJMBRFSMTDcptrLarLrN0p1PL9S8VR3BJEu+Fmy4dMwl0uMwmP1j34hTvG6AFyWKdOnirKKUB7wgz22ugtlZWxoTUA+3Bu5C8K3MW3Nkp92d3u6B7/Qc8sNDYpaM4OYkZEvNAQov7mnqfwuZWMfi8QmKV2VledPRZXd7mX+lMqTheIVZTITOH44ifmjlWTCZoyP5iqPtAvDaNzdhAc2VQWr4QsK3Xvna1uy+B5cAAACVQZ7lRRUsI/8AIsU/nDqk7mdGs19jzzZlyjvc7ACaupJpSWyYUXy1Xy6+99mVpG1uJ5GqGp3L0+G5bGOUH8qTtA8z8Uxz5SAmbE3AzSrMDMwKQTpbyhr3wyZJKl2ebBJ7/ixeiF9tjy5Bxrm1rudica9Be5GycX4tjP/biELdKjURriim0JWsh3AhHbI/U7UOCQPJdMEAAAB9AZ8EdEf/ADc4UiKF27NSqys3dZYf23DU0ACG5wXp7Gfv3sZhGvToclzlzyGxn+TBx85WryqudUh+Xatnqy5d6dkDZCXozLZ4fdWm5m7x+dbLi12BCsmQfnIOuZb3PYjf3F5OJaykZYGzjnfQPUvb/qQCpEfCSKBfzOlYb0EAAACcAZ8Gakf/ADdSekBmbrCemmKbbVlc4EM8AA4lZp5NLIxCdubZXnyq5MXtlvU/bodQyhSka5h84uAMRTfkZIrPy+fAlYUzQoX6ssQJ6JLlwgM+MDydUJzzfcz7LxA8U6JC7wifPooC4dS9wjGI2yBV1bMTHLulzddTaFsuGaJjA41/r9YHAIfvap05orxjhYUAsIbDDlluR2yzrgGFAAAAu0GbC0moQWyZTAhn//6eEAAAAwCO1lni9rdyMYIxWWtyK+hou/y0gA22OCiVjJKHl/Laf5vIdnaieAEbwW+490CPfMGzmjS2/H10u6HRumk71SGItSCxjgOkYcq9QMtCd/ChwJBztUOhzrcmva56oG8lN8MmEHAtXD6rF1TRqBW11cpEE1WBcOcrb43n7cNBEV46BBvZlBxj5UwHWgEtZKjVXFQuxeHCaO7VMjfcAZj5AwblMQSGhdl1lfwAAAC3QZ8pRRUsI/8AIsU/nDqk7mdGs19jzzZlyhR/1mJRtLaaABDcXy8w8N0ByQsZxjoOFiqycOrXcyYKU2yoq+bxJzVsbqJ8ifq6tQnWOhJE9kkDhIEssVUsOhoO1By8xqFa+mTMnA75wrycReiJl6A98CLQ37F381bZ3S2MfnRcY/74HLbmkPS7Sc/v6Zu5qYuMJkU4bOJFoOjS1ZMbgZy63xHkFeA0g01myAcCr2dOj4GcDbh+2eakAAAAhAGfSHRH/wA3OFIihduzUqsrN3WWH8TMUaLUJjhOZw/jpUAHeSCN0/c+uCf3hlfLv2+h5wr2KTS343vFPspC/rsNhsCut/H/UysoVVYh/3kA26kewJMbRv+lHS9c81hMl5HfOQm4ugOPsZCmwyCfGvw2K2FTixL5Yblupx7xKEBMKEDKgQAAAF4Bn0pqR/8AN1J6QGZusJ6aYpttWVzdQhUjpps6yUUzf3qofX3ruTKO4tFWjUxiQgAQoOJRItuiwvs/OUImBXF9/94wbth0Ka8mwxBJAjJZXWcr3S7Lzr847DiN7TegAAAA3EGbT0moQWyZTAhn//6eEAAAAwA15nLH0NjOJwmnib1kRJsJAiM8ahQgA4sv6JetEhxWK1m5FwnV3249NaUI/2tmhZ8PxTaTojrJpsNo19PUGgQTOApsX2lON9Q5NNkaksJZViU/TbCA7mRiQT/fgwPZ85fXgGsDjlIIQXdtX87hYl72JuJMX5VFL4zqe1TMXtvIgV+MZydkaEv4TuMms8dQFC1CMz5qPfQQcwD/j1nbgQ/mtckttLjCxQvUoVpjf8RbgUZBr71Y/+zk2tbh6Opj7AJyIkXoMklYY+AAAACWQZ9tRRUsI/8AIsU/nDqk7mdGs19jzzZlyIH/7RQAZ0Ai2rETgT2Ifb02WTc4OYsDNrGWl0elZFb9rB5jTxwq5i3E5+/pWRWgKVEjPpnUpbx/BKk7N7jsjJiCP0OQsm+Uif82k8qMJLEenMae4ypV3bMFkWPjTG50kVTA+Jc8lMIk2766Eu0OfsK7jA8f8X+3vWPnAaXhAAAAdQGfjHRH/wA3OFIihduzUqsrN3WWHrpaXrkpgATgzMipf2O5Bs57kRcV4w47ph41eZym4SG8BknnAzsEK2nth9P+25RZ2OpuIHE9cLojNn3ZaeADmYXzgFwCivDjWMHuxv6Mw8/rD5X6Lh7+1wAXzNfxO/GciwAAAFQBn45qR/8AN1J6QGZusJ6aYpttWVzP8saNwY2hswC8k69yxXKAElOJzaP3xzjni7TR4btP2wGaJLn5qNyus2zuzq+N+H3/ciSeIDpT4xpP9FVgm4EAAADyQZuTSahBbJlMCGf//p4QAAADADYCXwecAHOAPtxVYiZu0Wk2s1ApM5J8XRtMaA46giuXBvR1tnj760r53O770kaPSVivmCfMSfYxqmw2IGIpWBUWFiMNue9b4/akvzaIwH2XxV9Tgvn2/nXcpdZhf7rrMyUMG1X2zheSe887JcoNj1TqKISQePiCCcxCqO+1r9eLtjPeYwIcv83vdfKiciS4cDn9scpydSOvt62BnNhmcfMtf5oyATZ132Js03LfjkSavTu64suxRg5fMpQboFEqPaKJy4cbHAtzeBH1hRrrLzVi1Vqjo0Y2tpZwAb8tsLAAAAClQZ+xRRUsI/8AIsU/nDqk7mdGs19jzzZlyHMBFl9WN9n19zku5PkEPpoALqB+jBd7wmuAu8gde1T2T1aPX4n1yx2U6p3NUMzni5st46cg9SszHovHV/6LrhSX+Hduw6UsMM52JdhGKyhtpbKc2qpS8dn0UjKdIzyODCA59ScBPbT0l/bxDOZE4vb4erev1iZ4xdjeaor7xg//Civ1Z1TRGk8ux5FnAAAAXAGf0HRH/wA3OFIihduzUqsrN3WWHqvXlymBMGuHiyUlFgpkFB5sH5EbLzAks31TpVuw0pAyUAAgsgc9CY0L/NbTS7pTCzMz7Zynw+4w1D4G4lgQwXusIU1ylkNXAAAAfAGf0mpH/wA3UnpAZm6wnppim21ZXM8gUWnTrWdpYMkfZxhMgPl9AAAuf8dpPx6vBDCtFRsCTgt2SLUYTi6GEBPEqhltwKXp0CrBTBF0GiWRqpDifR7uBBWlwZ+OJ6bpynhS2fAxPyHz3Ai3E1SISuHuGyS2kCMTKMGSt9YAAADYQZvXSahBbJlMCF///oywAAADADZWQvEQKCiw6/zDTFzOxBFkpouzEIJJrwo2kkkT8qn3QAyQ4PqB0GnJWFHJ2j6lqIIF7xd6JZHmo0nwoddfGqxx17PpoH/urRhgOUzEtJ6FOz+mjyghxuqzv083PUqE3m0/J66uj8cAynRgIU1xQ3RfbRAlDhY1dF7lB0RCkQGAysMloSdgWV5Ga9CBEWTBePtJoI8cMOqh9wnj3wLP81ogJrgIqDZaHFtvoroHYqkWijjs25FpVMq6TThvJiSOU5LwJO8sAAAAkEGf9UUVLCP/ACLFP5w6pO5nRrNfY882ZciB9UzAA2LqmrAlMcD7FkNNsEExi0+oVHcB/BybFQi542jVFnfu/ZwuU6m7ZLb90u9HXEOLtk/ZfocRmECelcD9EZ9OcdX73ofG7TlTU6/3e2f50WYGoJREsynsCpKt2PtOqO3uRc53kt6uFJVlJ1piX8S2TcwccQAAAIYBnhR0R/8ANzhSIoXbs1KrKzd1lh615L8iUAE7My+VuKo+UNKiY5l6vbBaeX/mpsIebxSqZIr2qdcNpu1RO2DfTGgwQmJZUanOEQ4PZcvMb7n/eQ7REsJliUJOeDdoR5I66VbdOqUJQWD9JT5/9holkKEsaI9/pOoANJ1KFLgaf7/ARTd+nAAAAI8BnhZqR/8AN1J6QGZusJ6aYpttWVzPrNNauAB+Fe36kvnFD/9BsRz7v98L7O7htBjN0CTJKza/vtUr4kfRRWXWDTEh2BPXpR45AUoijYvbApGjMUQ/KB1NuWS5xnyCjk4wQirevsrh4aT2/+t5wIaXg1ArmbVtkcr81IOMbEbdmDMaxGiPkOacooImtwribwAAAQ1BmhtJqEFsmUwIX//+jLAAAAMANSB0HgmCIAhoq7/e1NeRYXZHKdKCyhpTvbArdtElEn93JZ39P/+A5dz5wIpZe5C2vsUax05yUPuiQ51WEH76yYPKZouuj1g7STg7DiXH9cPX/OeU8M83Ldcxk5+108MBL/agGQPlU6zKjEAwtpBc0RBwnK4DFVy6euPxVIYuBzWX6Nc7BoKvg/C6FN1X62QOQf8HDkZEaaO9rUohJlU5tkRCK0lUIs86JXNbkVtNuGNgwUfu52KtagZd+Qq9e2oeOptTRxnHe+rVcYUFWxiSnoXU/jg/yi44nhnIPjx3v3FGRoSrgGzqR6aByhYNhW8ynCFQhjsZFOemcwAAAK5BnjlFFSwj/wAixT+cOqTuZ0azX2PPNmXJzw6oJHFCZnok87jGQAzUr60TPKFBbm/NXzvDeNqgqAScIup3qqDXS77pACXaTHvxFgI3kzzLQ7y40WYrR9h459vLCUhGYWeIqVL8HO20oprRY/vvAsmkaAaE6MFKxqYf/327CnrNymEkJbvSCFvbcNdLaxkFiooblDCfPskWFyt7qHb7dPJv0uFLJySVhtonNUVzCJgAAABvAZ5YdEf/ADc4UiKF27NSqys3dZYepvXwJfXFmWzdwALDJjR0v8nL+4bZ279ddYJvr+kEskQ3G9A7tWn5t6NKDVWRq9qtluHqn1prMdTQZ0lhJYo08RWDA1kG2iVZ8HiURyjtx/oa6bM+9Egnf5sHAAAAXwGeWmpH/wA3UnpAZm6wnppim21ZXNwCQFj2dRknnxOgBMfp88GyUU/es+vQmfE8nr4lyNduQX8f1wuxd4ZFcFiAlLIBqnyeglTMkVJwruJ9nGMTl4aXfNDNXdS4QxLwAAAAmEGaX0moQWyZTAhf//6MsAAAAwA1INc05ACKl8uEWOEGnJewHzdB02E2axaNyNcT12n7ND3dUd350ORqUHXdkvUEDWpjJgQgyb0IgT0fvAuTu4J5fYOLaqW0eGQsUTchFDHIUoGWrUrzLKE0kFLlZGWUdxK/wBGd8Yaezdb2Iyk7iBK0cbEMCUtb0UmHNNEHhNv3UN8439+BAAAAaUGefUUVLCP/ACLFP5w6pO5nRrNfY882ZcnQsgSH07BJuRfGQLAerd+ACMBkoe6/DtdrETAxmBa7lrSp0gTblEQBFsCWz15gPFnPIw2yQ2BBMnWyK1TaLfzIOj7WehA6oBpGWpnotsoWUQAAAFcBnpx0R/8ANzhSIoXbs1KrKzd1lh+ZhyjlNGxA9TVQAbroj2T8R5BxD6MVLUDt8HGv02cbuCFumBE8EALRkEGL3az1dEqj37JBWexGQKP9LrkVIB8AwoAAAAAoAZ6eakf/ADdSekBmbrCemmKbbVlczqwqznluleS9V6Npc7Cu0iQEfAAAAGxBmoNJqEFsmUwIV//+OEAAAAMAziQmeURd0jbw5mgBVKdNuAtTSieEojYfytDqDHXct5l0kaY44G0tW0wmi1VBe42hImkKT3xmQUgDl+5DSCR/3qmFAkzv4VQXqMGP//M/4EP6lybUCQK1VA8AAAA+QZ6hRRUsI/8AIsU/nDqk7mdGs19jzzZlyG2AiYR3qwPzEzQZNUe9308pUTjxaLs0A6KWehXbpqZ0y3jUrQgAAAAqAZ7AdEf/ADc4UiKF27NSqys3dZYep1fc4JAxE8LVl2FdQHqhGLhpSAelAAAALAGewmpH/wA3UnpAZm6wnppim21ZXM6mD1Ui0deq+q1gZRVqTulviDFanANSAAAAPkGax0moQWyZTAhH//3hAAADAAMT7HNSCmDCisXKKQgBbgRQT5/eOg3EI4jFnL3une2Lo0WJdiOIFpcOOIN7AAAAM0Ge5UUVLCP/ACLFP5w6pO5nRrNfY882ZchpOZDeVg2EtZFyCGZFS0X+uVTAWTt09YnnTQAAACcBnwR0R/8ANzhSIoXbs1KrKzd1lh6kHHSWIT6lwvTiDTzMkQREBJ0AAAAjAZ8Gakf/ADdSekBmbrCemmKbbVlczmtM0NtaNRVCNNc+ARcAAAAXQZsISahBbJlMCP/8hAAAAwABr4TOSYsAAAxPbW9vdgAAAGxtdmhkAAAAAAAAAAAAAAAAAAAD6AAAD7QAAQAAAQAAAAAAAAAAAAAAAAEAAAAAAAAAAAAAAAAAAAABAAAAAAAAAAAAAAAAAABAAAAAAAAAAAAAAAAAAAAAAAAAAAAAAAAAAAAAAAAAAgAAC3l0cmFrAAAAXHRraGQAAAADAAAAAAAAAAAAAAABAAAAAAAAD7QAAAAAAAAAAAAAAAAAAAAAAAEAAAAAAAAAAAAAAAAAAAABAAAAAAAAAAAAAAAAAABAAAAAAlgAAAGQAAAAAAAkZWR0cwAAABxlbHN0AAAAAAAAAAEAAA+0AAACAAABAAAAAArxbWRpYQAAACBtZGhkAAAAAAAAAAAAAAAAAAAyAAAAyQBVxAAAAAAALWhkbHIAAAAAAAAAAHZpZGUAAAAAAAAAAAAAAABWaWRlb0hhbmRsZXIAAAAKnG1pbmYAAAAUdm1oZAAAAAEAAAAAAAAAAAAAACRkaW5mAAAAHGRyZWYAAAAAAAAAAQAAAAx1cmwgAAAAAQAAClxzdGJsAAAAmHN0c2QAAAAAAAAAAQAAAIhhdmMxAAAAAAAAAAEAAAAAAAAAAAAAAAAAAAAAAlgBkABIAAAASAAAAAAAAAABAAAAAAAAAAAAAAAAAAAAAAAAAAAAAAAAAAAAAAAAAAAAGP//AAAAMmF2Y0MBZAAf/+EAGWdkAB+s2UCYM+XhAAADAAEAAAMAZA8YMZYBAAZo6+PLIsAAAAAYc3R0cwAAAAAAAAABAAAAyQAAAQAAAAAUc3RzcwAAAAAAAAABAAAAAQAABihjdHRzAAAAAAAAAMMAAAABAAACAAAAAAEAAAUAAAAAAQAAAgAAAAABAAAAAAAAAAEAAAEAAAAAAQAABQAAAAABAAACAAAAAAEAAAAAAAAAAQAAAQAAAAABAAAFAAAAAAEAAAIAAAAAAQAAAAAAAAABAAABAAAAAAEAAAUAAAAAAQAAAgAAAAABAAAAAAAAAAEAAAEAAAAAAQAABQAAAAABAAACAAAAAAEAAAAAAAAAAQAAAQAAAAABAAAFAAAAAAEAAAIAAAAAAQAAAAAAAAABAAABAAAAAAEAAAUAAAAAAQAAAgAAAAABAAAAAAAAAAEAAAEAAAAAAQAABQAAAAABAAACAAAAAAEAAAAAAAAAAQAAAQAAAAABAAAFAAAAAAEAAAIAAAAAAQAAAAAAAAABAAABAAAAAAEAAAIAAAAAAQAABQAAAAABAAACAAAAAAEAAAAAAAAAAQAAAQAAAAABAAAEAAAAAAIAAAEAAAAAAQAABQAAAAABAAACAAAAAAEAAAAAAAAAAQAAAQAAAAABAAAFAAAAAAEAAAIAAAAAAQAAAAAAAAABAAABAAAAAAEAAAUAAAAAAQAAAgAAAAABAAAAAAAAAAEAAAEAAAAAAQAABQAAAAABAAACAAAAAAEAAAAAAAAAAQAAAQAAAAABAAAFAAAAAAEAAAIAAAAAAQAAAAAAAAABAAABAAAAAAEAAAQAAAAAAgAAAQAAAAABAAAFAAAAAAEAAAIAAAAAAQAAAAAAAAABAAABAAAAAAEAAAQAAAAAAgAAAQAAAAABAAAFAAAAAAEAAAIAAAAAAQAAAAAAAAABAAABAAAAAAEAAAUAAAAAAQAAAgAAAAABAAAAAAAAAAEAAAEAAAAAAQAABQAAAAABAAACAAAAAAEAAAAAAAAAAQAAAQAAAAABAAAFAAAAAAEAAAIAAAAAAQAAAAAAAAABAAABAAAAAAEAAAUAAAAAAQAAAgAAAAABAAAAAAAAAAEAAAEAAAAAAQAABQAAAAABAAACAAAAAAEAAAAAAAAAAQAAAQAAAAABAAAFAAAAAAEAAAIAAAAAAQAAAAAAAAABAAABAAAAAAEAAAUAAAAAAQAAAgAAAAABAAAAAAAAAAEAAAEAAAAAAQAABQAAAAABAAACAAAAAAEAAAAAAAAAAQAAAQAAAAABAAAFAAAAAAEAAAIAAAAAAQAAAAAAAAABAAABAAAAAAEAAAQAAAAAAgAAAQAAAAABAAAFAAAAAAEAAAIAAAAAAQAAAAAAAAABAAABAAAAAAEAAAUAAAAAAQAAAgAAAAABAAAAAAAAAAEAAAEAAAAAAQAABQAAAAABAAACAAAAAAEAAAAAAAAAAQAAAQAAAAABAAAFAAAAAAEAAAIAAAAAAQAAAAAAAAABAAABAAAAAAEAAAUAAAAAAQAAAgAAAAABAAAAAAAAAAEAAAEAAAAAAQAABQAAAAABAAACAAAAAAEAAAAAAAAAAQAAAQAAAAABAAAEAAAAAAIAAAEAAAAAAQAABAAAAAACAAABAAAAAAEAAAUAAAAAAQAAAgAAAAABAAAAAAAAAAEAAAEAAAAAAQAABQAAAAABAAACAAAAAAEAAAAAAAAAAQAAAQAAAAABAAAFAAAAAAEAAAIAAAAAAQAAAAAAAAABAAABAAAAAAEAAAUAAAAAAQAAAgAAAAABAAAAAAAAAAEAAAEAAAAAAQAABQAAAAABAAACAAAAAAEAAAAAAAAAAQAAAQAAAAABAAAFAAAAAAEAAAIAAAAAAQAAAAAAAAABAAABAAAAAAEAAAUAAAAAAQAAAgAAAAABAAAAAAAAAAEAAAEAAAAAAQAABQAAAAABAAACAAAAAAEAAAAAAAAAAQAAAQAAAAABAAAFAAAAAAEAAAIAAAAAAQAAAAAAAAABAAABAAAAAAEAAAUAAAAAAQAAAgAAAAABAAAAAAAAAAEAAAEAAAAAAQAABQAAAAABAAACAAAAAAEAAAAAAAAAAQAAAQAAAAABAAAFAAAAAAEAAAIAAAAAAQAAAAAAAAABAAABAAAAAAEAAAUAAAAAAQAAAgAAAAABAAAAAAAAAAEAAAEAAAAAAQAAAgAAAAAcc3RzYwAAAAAAAAABAAAAAQAAAMkAAAABAAADOHN0c3oAAAAAAAAAAAAAAMkAAAoHAAABEgAAAF8AAAA9AAAALQAAAKwAAABGAAAALAAAACsAAADRAAAAWgAAACMAAAA7AAAAuwAAAGUAAAAqAAAAPAAAAN4AAABQAAAAMwAAAEoAAAERAAAAbgAAAD8AAABsAAABNQAAAHgAAABRAAAATQAAAPQAAACrAAAAeQAAAKAAAAD+AAAA0gAAALQAAACOAAAA8AAAAPMAAACzAAAAVwAAALAAAAD6AAAAiAAAAIkAAAESAAAAhAAAAJgAAACUAAABFwAAALEAAAB4AAAApAAAAPgAAACpAAAAmwAAAIoAAADpAAAAuwAAALMAAACIAAAA3gAAAK4AAAClAAAAigAAANMAAAC2AAAAdgAAANcAAACwAAAAggAAAJsAAADfAAAAqQAAAKUAAAEBAAAAjQAAAJgAAAC4AAAA+AAAAM8AAACfAAAAkwAAAOIAAACnAAAApQAAAKAAAAEKAAAAzwAAALIAAAC2AAABBAAAAIAAAACHAAAAowAAANUAAACUAAAAfQAAAHMAAAEGAAAAvQAAALcAAACbAAABJQAAAMAAAAB5AAAAgQAAAO8AAACvAAAAkwAAAKUAAADVAAAAnQAAAKQAAAB/AAAA6gAAAJYAAACSAAAA8wAAAKkAAABvAAAAhQAAASoAAACoAAAAeQAAAIwAAADsAAAAkQAAAHYAAABoAAABBwAAAJMAAACeAAAAmwAAATUAAACaAAAAogAAAIgAAAEOAAAAqAAAAIsAAAB9AAABGAAAAJQAAAB/AAABUAAAAKIAAACLAAABEwAAALUAAAB8AAAAhAAAAPcAAACdAAAAigAAAKgAAADYAAAArAAAAIsAAAB4AAAA5AAAAMcAAACFAAAAigAAARoAAACZAAAAgQAAAKAAAAC/AAAAuwAAAIgAAABiAAAA4AAAAJoAAAB5AAAAWAAAAPYAAACpAAAAYAAAAIAAAADcAAAAlAAAAIoAAACTAAABEQAAALIAAABzAAAAYwAAAJwAAABtAAAAWwAAACwAAABwAAAAQgAAAC4AAAAwAAAAQgAAADcAAAArAAAAJwAAABsAAAAUc3RjbwAAAAAAAAABAAAAMAAAAGJ1ZHRhAAAAWm1ldGEAAAAAAAAAIWhkbHIAAAAAAAAAAG1kaXJhcHBsAAAAAAAAAAAAAAAALWlsc3QAAAAlqXRvbwAAAB1kYXRhAAAAAQAAAABMYXZmNTguMjkuMTAw\" type=\"video/mp4\" />\n",
       "                 </video>"
      ],
      "text/plain": [
       "<IPython.core.display.HTML object>"
      ]
     },
     "metadata": {},
     "output_type": "display_data"
    }
   ],
   "source": [
    "visualize_actor(env=eval_env, actor=actor, nsteps=200, train_sampling=False)"
   ]
  },
  {
   "cell_type": "markdown",
   "metadata": {},
   "source": [
    "# Save Models"
   ]
  },
  {
   "cell_type": "code",
   "execution_count": 36,
   "metadata": {},
   "outputs": [
    {
     "name": "stdout",
     "output_type": "stream",
     "text": [
      "Saved checkpoints for VPG...\n",
      "models_state_dict global_step n_updates optimizer scheduler\n",
      "Saved checkpoints for Baseline...\n",
      "models_state_dict global_step n_updates optimizer scheduler\n"
     ]
    },
    {
     "name": "stderr",
     "output_type": "stream",
     "text": [
      "/home/nlyubaykin/anaconda3/envs/relax/lib/python3.6/site-packages/torch/optim/lr_scheduler.py:200: UserWarning: Please also save or load the state of the optimzer when saving or loading the scheduler.\n",
      "  warnings.warn(SAVE_STATE_WARNING, UserWarning)\n"
     ]
    }
   ],
   "source": [
    "actor.save_checkpoint('trained_models', 'vpg_actor')\n",
    "critic.save_checkpoint('trained_models', 'baseline_critic')"
   ]
  },
  {
   "cell_type": "markdown",
   "metadata": {},
   "source": [
    "# Load Models"
   ]
  },
  {
   "cell_type": "code",
   "execution_count": 48,
   "metadata": {},
   "outputs": [
    {
     "name": "stdout",
     "output_type": "stream",
     "text": [
      "Loaded checkpoints for VPG...\n",
      "models_state_dict global_step n_updates optimizer scheduler\n",
      "Loaded checkpoints for Baseline...\n",
      "models_state_dict global_step n_updates optimizer scheduler\n"
     ]
    },
    {
     "name": "stderr",
     "output_type": "stream",
     "text": [
      "/home/nlyubaykin/anaconda3/envs/relax/lib/python3.6/site-packages/torch/optim/lr_scheduler.py:218: UserWarning: Please also save or load the state of the optimzer when saving or loading the scheduler.\n",
      "  warnings.warn(SAVE_STATE_WARNING, UserWarning)\n"
     ]
    }
   ],
   "source": [
    "actor.load_checkpoint('trained_models', 'vpg_actor')\n",
    "critic.load_checkpoint('trained_models', 'baseline_critic')"
   ]
  }
 ],
 "metadata": {
  "kernelspec": {
   "display_name": "Python Relax",
   "language": "python",
   "name": "relax"
  },
  "language_info": {
   "codemirror_mode": {
    "name": "ipython",
    "version": 3
   },
   "file_extension": ".py",
   "mimetype": "text/x-python",
   "name": "python",
   "nbconvert_exporter": "python",
   "pygments_lexer": "ipython3",
   "version": "3.6.13"
  }
 },
 "nbformat": 4,
 "nbformat_minor": 4
}
